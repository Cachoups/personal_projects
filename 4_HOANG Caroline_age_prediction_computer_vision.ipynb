{
  "cells": [
    {
      "cell_type": "markdown",
      "metadata": {
        "id": "dG2MLbQvZy9h"
      },
      "source": [
        "# **The Problem: Automatic Apparent Age Estimation**\n",
        "\n",
        "Summary:\n",
        "1. Base network\n",
        "2. Bias mitigation strategies\n",
        "- Data augmentation\n",
        "- Custom loss\n",
        "3. Network created from scratch\n",
        "\n",
        "From the first to the third part of this file, we present the best network and strategies we found. However, the best results we had were obtained by changing some of the initial code. Therefore, we sometimes included in the comments some example of the experiments we did (such as training other built-in networks) to show our work. Some results of those experiments can be found in the report.\n",
        "\n",
        "The last part is dedicated to the network we build ourselves. The results weren't as good as a built-in network, but it seemed important to include this as well.\n",
        "\n"
      ]
    },
    {
      "cell_type": "markdown",
      "source": [
        "---\n",
        "# **1. Base network**\n",
        "---"
      ],
      "metadata": {
        "id": "G-aUqTq2v_4B"
      }
    },
    {
      "cell_type": "code",
      "execution_count": null,
      "metadata": {
        "id": "M8DZFR8GpIfL",
        "colab": {
          "base_uri": "https://localhost:8080/"
        },
        "outputId": "e06b21f4-45b2-4c1f-a2b8-41767c893388"
      },
      "outputs": [
        {
          "output_type": "stream",
          "name": "stdout",
          "text": [
            "--2023-11-29 19:56:47--  http://data.chalearnlap.cvc.uab.cat/Colab_2021/app_data_with-no-test-labels.zip\n",
            "Resolving data.chalearnlap.cvc.uab.cat (data.chalearnlap.cvc.uab.cat)... 158.109.8.102\n",
            "Connecting to data.chalearnlap.cvc.uab.cat (data.chalearnlap.cvc.uab.cat)|158.109.8.102|:80... connected.\n",
            "HTTP request sent, awaiting response... 200 OK\n",
            "Length: 803085698 (766M) [application/zip]\n",
            "Saving to: ‘app_data_with-no-test-labels.zip’\n",
            "\n",
            "app_data_with-no-te 100%[===================>] 765.88M  5.15MB/s    in 2m 19s  \n",
            "\n",
            "2023-11-29 19:59:07 (5.51 MB/s) - ‘app_data_with-no-test-labels.zip’ saved [803085698/803085698]\n",
            "\n",
            "Data decompressed successfully\n",
            "rm: cannot remove 'app_data.zip': No such file or directory\n"
          ]
        }
      ],
      "source": [
        "import tensorflow as tf\n",
        "\n",
        "# downloading the data\n",
        "!wget http://data.chalearnlap.cvc.uab.cat/Colab_2021/app_data_with-no-test-labels.zip\n",
        "\n",
        "# decompressing the data\n",
        "from zipfile import ZipFile\n",
        "\n",
        "with ZipFile('app_data_with-no-test-labels.zip','r') as zip:\n",
        "   zip.extractall()\n",
        "   print('Data decompressed successfully')\n",
        "\n",
        "# removing the .zip file after extraction to clean space\n",
        "!rm app_data.zip"
      ]
    },
    {
      "cell_type": "code",
      "execution_count": null,
      "metadata": {
        "id": "9GRhB1gzXlYc",
        "colab": {
          "base_uri": "https://localhost:8080/"
        },
        "outputId": "bd852deb-a45f-47af-c060-0e85ea01f901"
      },
      "outputs": [
        {
          "output_type": "stream",
          "name": "stdout",
          "text": [
            "Train data size and shape (4065, 224, 224, 3)\n",
            "Train labels size and shape (4065,)\n",
            "Train metadata size and shape (4065, 3)\n",
            "----\n",
            "Valid data size and shape (1482, 224, 224, 3)\n",
            "Valid labels size and shape (1482,)\n",
            "Valid metadata size and shape (1482, 3)\n",
            "----\n",
            "Test data size and shape (1978, 224, 224, 3)\n"
          ]
        }
      ],
      "source": [
        "import numpy as np\n",
        "\n",
        "# loading the train data (with labels)\n",
        "X_train = np.load('./data/data_train.npy')\n",
        "Y_train = np.load('./data/labels_train.npy')\n",
        "M_train = np.load('./data/meta_data_train.npy')\n",
        "\n",
        "# loading the validation data (with labels)\n",
        "X_valid = np.load('./data/data_valid.npy')\n",
        "Y_valid = np.load('./data/labels_valid.npy')\n",
        "M_valid = np.load('./data/meta_data_valid.npy')\n",
        "\n",
        "# loading the test data (images only) to be used later in our challenge\n",
        "X_test = np.load('./data/data_test.npy')\n",
        "\n",
        "\n",
        "# train labels are real numbers, ranging from ~0.9 to ~89 (years old);\n",
        "# we will re-scale the labels to [0,1] by using a normalization factor of 100,\n",
        "# assuming there is no sample with age > 100.\n",
        "Y_train = Y_train/100\n",
        "Y_valid = Y_valid/100\n",
        "# Y_test = Y_test/100 # -> we don't normalize the test labels as we will evaluate\n",
        "                      # them using the raw data, i.e., the apparent age values\n",
        "\n",
        "print('Train data size and shape', X_train.shape)\n",
        "print('Train labels size and shape', Y_train.shape)\n",
        "print('Train metadata size and shape', M_train.shape)\n",
        "print('----')\n",
        "print('Valid data size and shape', X_valid.shape)\n",
        "print('Valid labels size and shape', Y_valid.shape)\n",
        "print('Valid metadata size and shape', M_valid.shape)\n",
        "print('----')\n",
        "print('Test data size and shape', X_test.shape)"
      ]
    },
    {
      "cell_type": "markdown",
      "metadata": {
        "id": "IOc3kPMYzTCI"
      },
      "source": [
        "\n",
        "\n",
        "Our final network being ResNet50, the preprocessing stays the same. However, when training other built-in network, we needed to use other preprocessing functions, such as *tf.keras.applications.xception.preprocess_input* for the network Xception, or *tf.keras.applications.vgg16.preprocess_input* for VGG16."
      ]
    },
    {
      "cell_type": "code",
      "execution_count": null,
      "metadata": {
        "id": "42bGw2eCzZ2r"
      },
      "outputs": [],
      "source": [
        "# train\n",
        "for i in range(0,X_train.shape[0]):\n",
        "  x = X_train[i,:,:,:]\n",
        "  x = np.expand_dims(x, axis=0)\n",
        "  X_train[i,] = tf.keras.applications.resnet50.preprocess_input(x)\n",
        "\n",
        "# validation\n",
        "for i in range(0,X_valid.shape[0]):\n",
        "  x = X_valid[i,:,:,:]\n",
        "  x = np.expand_dims(x, axis=0)\n",
        "  X_valid[i,] = tf.keras.applications.resnet50.preprocess_input(x)\n",
        "\n",
        "# test\n",
        "for i in range(0,X_test.shape[0]):\n",
        "  x = X_test[i,:,:,:]\n",
        "  x = np.expand_dims(x, axis=0)\n",
        "  X_test[i,] = tf.keras.applications.resnet50.preprocess_input(x)\n"
      ]
    },
    {
      "cell_type": "code",
      "execution_count": null,
      "metadata": {
        "id": "HQwDAOner6rD",
        "colab": {
          "base_uri": "https://localhost:8080/"
        },
        "outputId": "cf25c2e2-50b9-4c4b-d8cb-61859dc99de6"
      },
      "outputs": [
        {
          "output_type": "stream",
          "name": "stdout",
          "text": [
            "--2022-10-06 12:57:53--  http://data.chalearnlap.cvc.uab.cat/Colab_2021/model.zip\n",
            "Resolving data.chalearnlap.cvc.uab.cat (data.chalearnlap.cvc.uab.cat)... 158.109.8.102\n",
            "Connecting to data.chalearnlap.cvc.uab.cat (data.chalearnlap.cvc.uab.cat)|158.109.8.102|:80... connected.\n",
            "HTTP request sent, awaiting response... 200 OK\n",
            "Length: 107893665 (103M) [application/zip]\n",
            "Saving to: ‘model.zip’\n",
            "\n",
            "model.zip           100%[===================>] 102.89M   611KB/s    in 3m 32s  \n",
            "\n",
            "2022-10-06 13:01:27 (497 KB/s) - ‘model.zip’ saved [107893665/107893665]\n",
            "\n",
            "Model decompressed successfully\n"
          ]
        }
      ],
      "source": [
        "# downloading the data\n",
        "!wget http://data.chalearnlap.cvc.uab.cat/Colab_2021/model.zip\n",
        "\n",
        "# decompressing the data\n",
        "with ZipFile('model.zip','r') as zip:\n",
        "   zip.extractall()\n",
        "   print('Model decompressed successfully')\n",
        "\n",
        "# removing the .zip file after extraction  to clean space\n",
        "!rm model.zip"
      ]
    },
    {
      "cell_type": "markdown",
      "metadata": {
        "id": "a29243uAmxUS"
      },
      "source": [
        "\n",
        "After several tests on with other models, we chose to stay with the ResNet50 model. However, we did not change a lot from the initial model. Therefore, we have included part of our code (commented) at the end of each cell that was used to train other built-in models from Keras. The example here is using the Xception network, but we trained a lot more, such as VGG16, other models in the ResNet and EfficientNet family, etc...\n",
        "\n"
      ]
    },
    {
      "cell_type": "code",
      "execution_count": null,
      "metadata": {
        "id": "J--yWIXom0uf"
      },
      "outputs": [],
      "source": [
        "import h5py\n",
        "import numpy as np\n",
        "import tensorflow as tf\n",
        "\n",
        "# loading the pretrained model\n",
        "model = tf.keras.models.load_model('./model/weights.h5')\n",
        "\n",
        "# code used to load another model (Xception example)\n",
        "#model = tf.keras.applications.xception.Xception(weights='imagenet', include_top=False)"
      ]
    },
    {
      "cell_type": "markdown",
      "metadata": {
        "id": "LrDpADCzzfjU"
      },
      "source": [
        "\n",
        "We have included some of our code at the end of the following cell, the same way as before, to show the use of other models."
      ]
    },
    {
      "cell_type": "code",
      "execution_count": null,
      "metadata": {
        "id": "5ABLExjBziRn"
      },
      "outputs": [],
      "source": [
        "# Using the FC layer before the 'classifier_low_dim' layer as feature vector\n",
        "fc_512 = model.get_layer('dim_proj').output\n",
        "\n",
        "# adding a dropout layer to minimize overfiting problems\n",
        "dp_layer = tf.keras.layers.Dropout(0.5)(fc_512)\n",
        "\n",
        "# adding a few hidden FC layers to learn hidden representations\n",
        "fc_256 = tf.keras.layers.Dense(256, activation='relu', name='f_256')(fc_512)\n",
        "fc_128 = tf.keras.layers.Dense(128, activation='relu', name='f_128')(fc_256)\n",
        "fc_64 = tf.keras.layers.Dense(64, activation='relu', name='f_64')(fc_128)\n",
        "fc_32 = tf.keras.layers.Dense(32, activation='relu', name='f_32')(fc_64)\n",
        "\n",
        "# Includint an additional FC layer with sigmoid activation, used to regress\n",
        "# the apparent age\n",
        "output = tf.keras.layers.Dense(1, activation='sigmoid', name='predict')(fc_32)\n",
        "\n",
        "# building and pringing the final model\n",
        "model = tf.keras.models.Model(inputs=model.get_layer('base_input').output,outputs=output)\n",
        "\n",
        "\n",
        "# Adapting the Xception model :\n",
        "\n",
        "# fc_512 = model.get_layer('block14_sepconv2_act').output\n",
        "# avg_layer = tf.keras.layers.Average(7)(fc_512)\n",
        "# dp_layer = tf.keras.layers.Dropout(0.5)(avg_layer)\n",
        "# fc_256 = tf.keras.layers.Dense(256, activation='relu', name='f_256')(fc_512)\n",
        "# fc_128 = tf.keras.layers.Dense(128, activation='relu', name='f_128')(fc_256)\n",
        "# output = tf.keras.layers.Dense(1, activation='sigmoid', name='predict')(fc_128)\n",
        "# model = tf.keras.models.Model(inputs=model.get_layer('input_2').output,outputs=output)\n",
        "\n",
        "# We also tried adding convolution, batch normalization and reLu layers on several models, but it had little to no effect."
      ]
    },
    {
      "cell_type": "markdown",
      "source": [
        "Our results with data augmentation being better if we train the whole network, we set all layers to trainable."
      ],
      "metadata": {
        "id": "mYDzWWFq3xLP"
      }
    },
    {
      "cell_type": "code",
      "execution_count": null,
      "metadata": {
        "id": "Xsf55m0x3SBw",
        "colab": {
          "base_uri": "https://localhost:8080/"
        },
        "outputId": "83a2798f-c608-4093-9d51-54650d722f08"
      },
      "outputs": [
        {
          "output_type": "stream",
          "name": "stdout",
          "text": [
            "0 base_input True\n",
            "1 conv1/7x7_s2 True\n",
            "2 conv1/7x7_s2/bn True\n",
            "3 activation_1 True\n",
            "4 max_pooling2d_1 True\n",
            "5 conv2_1_1x1_reduce True\n",
            "6 conv2_1_1x1_reduce/bn True\n",
            "7 activation_2 True\n",
            "8 conv2_1_3x3 True\n",
            "9 conv2_1_3x3/bn True\n",
            "10 activation_3 True\n",
            "11 conv2_1_1x1_increase True\n",
            "12 conv2_1_1x1_proj True\n",
            "13 conv2_1_1x1_increase/bn True\n",
            "14 conv2_1_1x1_proj/bn True\n",
            "15 add_1 True\n",
            "16 activation_4 True\n",
            "17 conv2_2_1x1_reduce True\n",
            "18 conv2_2_1x1_reduce/bn True\n",
            "19 activation_5 True\n",
            "20 conv2_2_3x3 True\n",
            "21 conv2_2_3x3/bn True\n",
            "22 activation_6 True\n",
            "23 conv2_2_1x1_increase True\n",
            "24 conv2_2_1x1_increase/bn True\n",
            "25 add_2 True\n",
            "26 activation_7 True\n",
            "27 conv2_3_1x1_reduce True\n",
            "28 conv2_3_1x1_reduce/bn True\n",
            "29 activation_8 True\n",
            "30 conv2_3_3x3 True\n",
            "31 conv2_3_3x3/bn True\n",
            "32 activation_9 True\n",
            "33 conv2_3_1x1_increase True\n",
            "34 conv2_3_1x1_increase/bn True\n",
            "35 add_3 True\n",
            "36 activation_10 True\n",
            "37 conv3_1_1x1_reduce True\n",
            "38 conv3_1_1x1_reduce/bn True\n",
            "39 activation_11 True\n",
            "40 conv3_1_3x3 True\n",
            "41 conv3_1_3x3/bn True\n",
            "42 activation_12 True\n",
            "43 conv3_1_1x1_increase True\n",
            "44 conv3_1_1x1_proj True\n",
            "45 conv3_1_1x1_increase/bn True\n",
            "46 conv3_1_1x1_proj/bn True\n",
            "47 add_4 True\n",
            "48 activation_13 True\n",
            "49 conv3_2_1x1_reduce True\n",
            "50 conv3_2_1x1_reduce/bn True\n",
            "51 activation_14 True\n",
            "52 conv3_2_3x3 True\n",
            "53 conv3_2_3x3/bn True\n",
            "54 activation_15 True\n",
            "55 conv3_2_1x1_increase True\n",
            "56 conv3_2_1x1_increase/bn True\n",
            "57 add_5 True\n",
            "58 activation_16 True\n",
            "59 conv3_3_1x1_reduce True\n",
            "60 conv3_3_1x1_reduce/bn True\n",
            "61 activation_17 True\n",
            "62 conv3_3_3x3 True\n",
            "63 conv3_3_3x3/bn True\n",
            "64 activation_18 True\n",
            "65 conv3_3_1x1_increase True\n",
            "66 conv3_3_1x1_increase/bn True\n",
            "67 add_6 True\n",
            "68 activation_19 True\n",
            "69 conv3_4_1x1_reduce True\n",
            "70 conv3_4_1x1_reduce/bn True\n",
            "71 activation_20 True\n",
            "72 conv3_4_3x3 True\n",
            "73 conv3_4_3x3/bn True\n",
            "74 activation_21 True\n",
            "75 conv3_4_1x1_increase True\n",
            "76 conv3_4_1x1_increase/bn True\n",
            "77 add_7 True\n",
            "78 activation_22 True\n",
            "79 conv4_1_1x1_reduce True\n",
            "80 conv4_1_1x1_reduce/bn True\n",
            "81 activation_23 True\n",
            "82 conv4_1_3x3 True\n",
            "83 conv4_1_3x3/bn True\n",
            "84 activation_24 True\n",
            "85 conv4_1_1x1_increase True\n",
            "86 conv4_1_1x1_proj True\n",
            "87 conv4_1_1x1_increase/bn True\n",
            "88 conv4_1_1x1_proj/bn True\n",
            "89 add_8 True\n",
            "90 activation_25 True\n",
            "91 conv4_2_1x1_reduce True\n",
            "92 conv4_2_1x1_reduce/bn True\n",
            "93 activation_26 True\n",
            "94 conv4_2_3x3 True\n",
            "95 conv4_2_3x3/bn True\n",
            "96 activation_27 True\n",
            "97 conv4_2_1x1_increase True\n",
            "98 conv4_2_1x1_increase/bn True\n",
            "99 add_9 True\n",
            "100 activation_28 True\n",
            "101 conv4_3_1x1_reduce True\n",
            "102 conv4_3_1x1_reduce/bn True\n",
            "103 activation_29 True\n",
            "104 conv4_3_3x3 True\n",
            "105 conv4_3_3x3/bn True\n",
            "106 activation_30 True\n",
            "107 conv4_3_1x1_increase True\n",
            "108 conv4_3_1x1_increase/bn True\n",
            "109 add_10 True\n",
            "110 activation_31 True\n",
            "111 conv4_4_1x1_reduce True\n",
            "112 conv4_4_1x1_reduce/bn True\n",
            "113 activation_32 True\n",
            "114 conv4_4_3x3 True\n",
            "115 conv4_4_3x3/bn True\n",
            "116 activation_33 True\n",
            "117 conv4_4_1x1_increase True\n",
            "118 conv4_4_1x1_increase/bn True\n",
            "119 add_11 True\n",
            "120 activation_34 True\n",
            "121 conv4_5_1x1_reduce True\n",
            "122 conv4_5_1x1_reduce/bn True\n",
            "123 activation_35 True\n",
            "124 conv4_5_3x3 True\n",
            "125 conv4_5_3x3/bn True\n",
            "126 activation_36 True\n",
            "127 conv4_5_1x1_increase True\n",
            "128 conv4_5_1x1_increase/bn True\n",
            "129 add_12 True\n",
            "130 activation_37 True\n",
            "131 conv4_6_1x1_reduce True\n",
            "132 conv4_6_1x1_reduce/bn True\n",
            "133 activation_38 True\n",
            "134 conv4_6_3x3 True\n",
            "135 conv4_6_3x3/bn True\n",
            "136 activation_39 True\n",
            "137 conv4_6_1x1_increase True\n",
            "138 conv4_6_1x1_increase/bn True\n",
            "139 add_13 True\n",
            "140 activation_40 True\n",
            "141 conv5_1_1x1_reduce True\n",
            "142 conv5_1_1x1_reduce/bn True\n",
            "143 activation_41 True\n",
            "144 conv5_1_3x3 True\n",
            "145 conv5_1_3x3/bn True\n",
            "146 activation_42 True\n",
            "147 conv5_1_1x1_increase True\n",
            "148 conv5_1_1x1_proj True\n",
            "149 conv5_1_1x1_increase/bn True\n",
            "150 conv5_1_1x1_proj/bn True\n",
            "151 add_14 True\n",
            "152 activation_43 True\n",
            "153 conv5_2_1x1_reduce True\n",
            "154 conv5_2_1x1_reduce/bn True\n",
            "155 activation_44 True\n",
            "156 conv5_2_3x3 True\n",
            "157 conv5_2_3x3/bn True\n",
            "158 activation_45 True\n",
            "159 conv5_2_1x1_increase True\n",
            "160 conv5_2_1x1_increase/bn True\n",
            "161 add_15 True\n",
            "162 activation_46 True\n",
            "163 conv5_3_1x1_reduce True\n",
            "164 conv5_3_1x1_reduce/bn True\n",
            "165 activation_47 True\n",
            "166 conv5_3_3x3 True\n",
            "167 conv5_3_3x3/bn True\n",
            "168 activation_48 True\n",
            "169 conv5_3_1x1_increase True\n",
            "170 conv5_3_1x1_increase/bn True\n",
            "171 add_16 True\n",
            "172 activation_49 True\n",
            "173 avg_pool True\n",
            "174 flatten_1 True\n",
            "175 dim_proj True\n",
            "176 f_256 True\n",
            "177 f_128 True\n",
            "178 f_64 True\n",
            "179 f_32 True\n",
            "180 predict True\n"
          ]
        }
      ],
      "source": [
        "# setting all layers of the model to trainable\n",
        "model.trainable = True\n",
        "\n",
        "counter = 0\n",
        "for layer in model.layers:\n",
        "  print(counter, layer.name, layer.trainable)\n",
        "  counter +=1"
      ]
    },
    {
      "cell_type": "markdown",
      "source": [
        "We set a learning schedule to decrease the learning rate during the training. The schedule used here is obtained with an exponential decay.\n",
        "\n",
        "Thanks to this learning schedule, we can learn more precise feature and have a smaller loss. The only disadvantage is regarding the training duration. If, despite the training patience, the training does not stop before the maximum number of epochs, which can be quite big, the final learning rate will be very small, and so will be the training speed. Thus, while we generally have better performances using such a training schedule, it can lead to networks taking a long time to train if we are not careful."
      ],
      "metadata": {
        "id": "jvd-lHVF3_zJ"
      }
    },
    {
      "cell_type": "code",
      "execution_count": null,
      "metadata": {
        "id": "71Oh2HLcz2dg",
        "colab": {
          "base_uri": "https://localhost:8080/"
        },
        "outputId": "e2f3c4a1-421e-4a06-b252-ad7598171fd7"
      },
      "outputs": [
        {
          "output_type": "stream",
          "name": "stdout",
          "text": [
            "Epoch 1/50\n",
            "128/128 [==============================] - 48s 332ms/step - loss: 0.0360 - mae: 0.1161 - val_loss: 0.0385 - val_mae: 0.1130\n",
            "Epoch 2/50\n",
            "128/128 [==============================] - 41s 319ms/step - loss: 0.0343 - mae: 0.1138 - val_loss: 0.0302 - val_mae: 0.1122\n",
            "Epoch 3/50\n",
            "128/128 [==============================] - 39s 308ms/step - loss: 0.0300 - mae: 0.1136 - val_loss: 0.0320 - val_mae: 0.1144\n",
            "Epoch 4/50\n",
            "128/128 [==============================] - 41s 317ms/step - loss: 0.0278 - mae: 0.1132 - val_loss: 0.0254 - val_mae: 0.1132\n",
            "Epoch 5/50\n",
            "128/128 [==============================] - 41s 320ms/step - loss: 0.0255 - mae: 0.1131 - val_loss: 0.0255 - val_mae: 0.1139\n",
            "Epoch 6/50\n",
            "128/128 [==============================] - 41s 317ms/step - loss: 0.0266 - mae: 0.1132 - val_loss: 0.0253 - val_mae: 0.1131\n",
            "Epoch 7/50\n",
            "128/128 [==============================] - 40s 317ms/step - loss: 0.0244 - mae: 0.1130 - val_loss: 0.0237 - val_mae: 0.1148\n",
            "Epoch 8/50\n",
            "128/128 [==============================] - 40s 316ms/step - loss: 0.0234 - mae: 0.1129 - val_loss: 0.0234 - val_mae: 0.1135\n",
            "Epoch 9/50\n",
            "128/128 [==============================] - 40s 316ms/step - loss: 0.0230 - mae: 0.1128 - val_loss: 0.0230 - val_mae: 0.1130\n",
            "Epoch 10/50\n",
            "128/128 [==============================] - 39s 306ms/step - loss: 0.0229 - mae: 0.1124 - val_loss: 0.0234 - val_mae: 0.1137\n",
            "Epoch 11/50\n",
            "128/128 [==============================] - 39s 307ms/step - loss: 0.0232 - mae: 0.1135 - val_loss: 0.0972 - val_mae: 0.2727\n",
            "Epoch 12/50\n",
            "128/128 [==============================] - 39s 306ms/step - loss: 0.0234 - mae: 0.1119 - val_loss: 0.0254 - val_mae: 0.1162\n",
            "Epoch 13/50\n",
            "128/128 [==============================] - 39s 306ms/step - loss: 0.0232 - mae: 0.1113 - val_loss: 0.0231 - val_mae: 0.1140\n",
            "Epoch 14/50\n",
            "128/128 [==============================] - 39s 306ms/step - loss: 0.0227 - mae: 0.1107 - val_loss: 0.0233 - val_mae: 0.1105\n",
            "Epoch 15/50\n",
            "128/128 [==============================] - 42s 329ms/step - loss: 0.0222 - mae: 0.1099 - val_loss: 0.0230 - val_mae: 0.1140\n",
            "Epoch 16/50\n",
            "128/128 [==============================] - 40s 316ms/step - loss: 0.0216 - mae: 0.1083 - val_loss: 0.0211 - val_mae: 0.1081\n",
            "Epoch 17/50\n",
            "128/128 [==============================] - 39s 306ms/step - loss: 0.0206 - mae: 0.1051 - val_loss: 0.0772 - val_mae: 0.2400\n",
            "Epoch 18/50\n",
            "128/128 [==============================] - 39s 306ms/step - loss: 0.0196 - mae: 0.1023 - val_loss: 0.0219 - val_mae: 0.1086\n",
            "Epoch 19/50\n",
            "128/128 [==============================] - 39s 305ms/step - loss: 0.0189 - mae: 0.1005 - val_loss: 0.0221 - val_mae: 0.1079\n",
            "Epoch 20/50\n",
            "128/128 [==============================] - 40s 316ms/step - loss: 0.0182 - mae: 0.0981 - val_loss: 0.0186 - val_mae: 0.1017\n",
            "Epoch 21/50\n",
            "128/128 [==============================] - 39s 306ms/step - loss: 0.0176 - mae: 0.0962 - val_loss: 0.0287 - val_mae: 0.1254\n",
            "Epoch 22/50\n",
            "128/128 [==============================] - 39s 306ms/step - loss: 0.0166 - mae: 0.0943 - val_loss: 0.0240 - val_mae: 0.1148\n",
            "Epoch 23/50\n",
            "128/128 [==============================] - 39s 306ms/step - loss: 0.0159 - mae: 0.0920 - val_loss: 0.0221 - val_mae: 0.1140\n",
            "Epoch 24/50\n",
            "128/128 [==============================] - 41s 319ms/step - loss: 0.0150 - mae: 0.0893 - val_loss: 0.0189 - val_mae: 0.1017\n",
            "Epoch 25/50\n",
            "128/128 [==============================] - 40s 316ms/step - loss: 0.0145 - mae: 0.0880 - val_loss: 0.0168 - val_mae: 0.0956\n",
            "Epoch 26/50\n",
            "128/128 [==============================] - 40s 316ms/step - loss: 0.0140 - mae: 0.0860 - val_loss: 0.0167 - val_mae: 0.0956\n",
            "Epoch 27/50\n",
            "128/128 [==============================] - 41s 318ms/step - loss: 0.0135 - mae: 0.0851 - val_loss: 0.0167 - val_mae: 0.0960\n",
            "Epoch 28/50\n",
            "128/128 [==============================] - 40s 316ms/step - loss: 0.0131 - mae: 0.0839 - val_loss: 0.0165 - val_mae: 0.0950\n",
            "Epoch 29/50\n",
            "128/128 [==============================] - 39s 306ms/step - loss: 0.0129 - mae: 0.0829 - val_loss: 0.0171 - val_mae: 0.0972\n",
            "Epoch 30/50\n",
            "128/128 [==============================] - 39s 306ms/step - loss: 0.0124 - mae: 0.0810 - val_loss: 0.0167 - val_mae: 0.0960\n",
            "Epoch 31/50\n",
            "128/128 [==============================] - 39s 306ms/step - loss: 0.0121 - mae: 0.0805 - val_loss: 0.0168 - val_mae: 0.0958\n",
            "Epoch 32/50\n",
            "128/128 [==============================] - 39s 306ms/step - loss: 0.0118 - mae: 0.0795 - val_loss: 0.0167 - val_mae: 0.0960\n",
            "Epoch 33/50\n",
            "128/128 [==============================] - 39s 305ms/step - loss: 0.0116 - mae: 0.0788 - val_loss: 0.0166 - val_mae: 0.0956\n",
            "Epoch 34/50\n",
            "128/128 [==============================] - 39s 306ms/step - loss: 0.0116 - mae: 0.0788 - val_loss: 0.0166 - val_mae: 0.0959\n",
            "Epoch 35/50\n",
            "128/128 [==============================] - 39s 306ms/step - loss: 0.0113 - mae: 0.0778 - val_loss: 0.0166 - val_mae: 0.0959\n",
            "Epoch 36/50\n",
            "128/128 [==============================] - 39s 306ms/step - loss: 0.0113 - mae: 0.0774 - val_loss: 0.0167 - val_mae: 0.0955\n",
            "Epoch 37/50\n",
            "128/128 [==============================] - 39s 306ms/step - loss: 0.0113 - mae: 0.0775 - val_loss: 0.0167 - val_mae: 0.0959\n",
            "Epoch 38/50\n",
            "128/128 [==============================] - 39s 305ms/step - loss: 0.0111 - mae: 0.0768 - val_loss: 0.0168 - val_mae: 0.0960\n",
            "Epoch 38: early stopping\n"
          ]
        }
      ],
      "source": [
        "import pickle\n",
        "\n",
        "initial_learning_rate = 1e-3\n",
        "final_learning_rate = 1e-7\n",
        "batchSize = 32\n",
        "numEpochs = 50\n",
        "learning_rate_decay_factor = (final_learning_rate / initial_learning_rate)**(1/numEpochs)\n",
        "steps_per_epoch = int(len(X_train)/batchSize)\n",
        "\n",
        "lr_schedule = tf.keras.optimizers.schedules.ExponentialDecay(\n",
        "                initial_learning_rate=initial_learning_rate,\n",
        "                decay_steps=steps_per_epoch,\n",
        "                decay_rate=learning_rate_decay_factor,\n",
        "                staircase=True)\n",
        "#--------------------------\n",
        "RESUME_TRAINING = False\n",
        "RESUME_FROM_EPOCH = 20\n",
        "#--------------------------\n",
        "# loading the saved model (best model learned at stage 1)\n",
        "if(RESUME_TRAINING == False):\n",
        "  saved_model = model\n",
        "else:\n",
        "  # resume training (stage 2)\n",
        "  saved_model = tf.keras.models.load_model('/content/drive/MyDrive/computerVisionProject_Maelys/best_model_2nd_stage.h5')\n",
        "\n",
        "# setting all layers to traineble\n",
        "saved_model.trainable = True\n",
        "\n",
        "#=================================================\n",
        "# training all layers (2nd stage), given the model saved on stage 1\n",
        "saved_model.compile(tf.keras.optimizers.Adam(learning_rate=lr_schedule),loss=tf.keras.losses.MeanSquaredError(),metrics=['mae'])\n",
        "#=================================================\n",
        "\n",
        "# defining the early stop criteria\n",
        "es = tf.keras.callbacks.EarlyStopping(monitor='val_loss', mode='min', verbose=1, patience=10)\n",
        "mc = tf.keras.callbacks.ModelCheckpoint('/content/drive/MyDrive/computerVisionProject_Maelys/best_model_2nd_stage.h5', monitor='val_loss', mode='min', save_best_only=True)\n",
        "\n",
        "if(RESUME_TRAINING == False):\n",
        "  history = saved_model.fit(X_train, Y_train, validation_data=(X_valid, Y_valid), batch_size=batchSize, epochs=numEpochs, initial_epoch=0, shuffle=True, verbose=1, callbacks=[es,mc])\n",
        "else:\n",
        "  history = saved_model.fit(X_train, Y_train, validation_data=(X_valid, Y_valid), batch_size=batchSize, epochs=numEpochs, initial_epoch=RESUME_FROM_EPOCH, shuffle=True, verbose=1, callbacks=[es,mc])\n",
        "  # saving training history\n",
        "with open('/content/drive/MyDrive/computerVisionProject_Maelys/train_history_2nd_stage.pkl', 'wb') as handle:\n",
        "  pickle.dump(history.history, handle, protocol=pickle.HIGHEST_PROTOCOL)\n",
        "\n"
      ]
    },
    {
      "cell_type": "markdown",
      "metadata": {
        "id": "8U1hPksD9BYt"
      },
      "source": [
        "Visualizing the train history\n"
      ]
    },
    {
      "cell_type": "code",
      "execution_count": null,
      "metadata": {
        "id": "xRKbcPYNOFRx",
        "colab": {
          "base_uri": "https://localhost:8080/",
          "height": 325
        },
        "outputId": "b9f678c3-7b33-4f36-accd-48550c0a6c0b"
      },
      "outputs": [
        {
          "output_type": "execute_result",
          "data": {
            "text/plain": [
              "<matplotlib.legend.Legend at 0x7f11061eed50>"
            ]
          },
          "metadata": {},
          "execution_count": 14
        },
        {
          "output_type": "display_data",
          "data": {
            "text/plain": [
              "<Figure size 1080x288 with 2 Axes>"
            ],
            "image/png": "[encoded data removed]"
          },
          "metadata": {
            "needs_background": "light"
          }
        }
      ],
      "source": [
        "from matplotlib import pyplot as plt\n",
        "\n",
        "#loading the history of the model we defined and trained\n",
        "train_hist = pickle.load(open(\"/content/drive/MyDrive/computerVisionProject_Maelys/train_history_2nd_stage.pkl\",\"rb\"))\n",
        "\n",
        "# we plot both, the LOSS and MAE\n",
        "fig, (ax1, ax2) = plt.subplots(1, 2, figsize=(15, 4))\n",
        "fig.suptitle('Training history (stage 2)', fontsize=14, fontweight='bold')\n",
        "\n",
        "ax1.plot(train_hist['loss'])\n",
        "ax1.plot(train_hist['val_loss'])\n",
        "ax1.set(xlabel='epoch', ylabel='LOSS')\n",
        "ax1.legend(['train', 'valid'], loc='upper right')\n",
        "\n",
        "ax2.plot(train_hist['mae'])\n",
        "ax2.plot(train_hist['val_mae'])\n",
        "ax2.set(xlabel='epoch', ylabel='MAE')\n",
        "ax2.legend(['train', 'valid'], loc='upper right')\n"
      ]
    },
    {
      "cell_type": "markdown",
      "metadata": {
        "id": "KDGOQjFz4k90"
      },
      "source": [
        "Loading the saved model and making predictions on the Validation set\n"
      ]
    },
    {
      "cell_type": "code",
      "execution_count": null,
      "metadata": {
        "id": "f4OKbe-3GBMB",
        "colab": {
          "base_uri": "https://localhost:8080/"
        },
        "outputId": "29a6a980-99c2-4219-f412-9830e7f4e616"
      },
      "outputs": [
        {
          "output_type": "stream",
          "name": "stdout",
          "text": [
            "47/47 [==============================] - 4s 71ms/step\n"
          ]
        }
      ],
      "source": [
        "#--------------------------\n",
        "ENABLE_EVALUATION_ST2 = True\n",
        "#--------------------------\n",
        "\n",
        "# loading the saved model\n",
        "saved_model = tf.keras.models.load_model('/content/drive/MyDrive/computerVisionProject_Maelys/best_model_2nd_stage.h5')\n",
        "\n",
        "if(ENABLE_EVALUATION_ST2==True):\n",
        "  # predict on the validation data (normalized outputs)\n",
        "  predictions_st2_valid = saved_model.predict(X_valid, batch_size=32, verbose=1)\n",
        "\n",
        "  # re-scaling the predictions to the range of \"age\" as the outputs are in the range of [0,1]\n",
        "  predictions_st2_valid_final = predictions_st2_valid*100"
      ]
    },
    {
      "cell_type": "code",
      "execution_count": null,
      "metadata": {
        "id": "XqdlJy5HGppZ",
        "colab": {
          "base_uri": "https://localhost:8080/"
        },
        "outputId": "a19b9c07-fed0-4741-cea4-fac0a54948af"
      },
      "outputs": [
        {
          "output_type": "stream",
          "name": "stdout",
          "text": [
            "MAE (validation) = 9.50220687\n",
            "-----\n",
            "predicted age = 32.272 - Ground truth = 26.231\n",
            "predicted age = 30.414 - Ground truth = 27.256\n",
            "predicted age = 26.920 - Ground truth = 23.143\n",
            "predicted age = 47.431 - Ground truth = 73.289\n",
            "predicted age = 41.285 - Ground truth = 20.143\n",
            "predicted age = 30.449 - Ground truth = 25.083\n",
            "predicted age = 29.574 - Ground truth = 34.769\n",
            "predicted age = 21.912 - Ground truth = 1.162\n",
            "predicted age = 29.148 - Ground truth = 4.846\n",
            "predicted age = 21.119 - Ground truth = 1.378\n"
          ]
        }
      ],
      "source": [
        "if(ENABLE_EVALUATION_ST2==True):\n",
        "  # evaluating on validation data (re-scalling Y_labels back to the range of \"ages\", using the normalization factor)\n",
        "  error = []\n",
        "  for i in range(0,len(Y_valid)):\n",
        "    error.append(abs(np.subtract(predictions_st2_valid_final[i][0],Y_valid[i]*100)))\n",
        "\n",
        "  print('MAE (validation) = %.8f' %(np.mean(error)))\n",
        "\n",
        "  # printing some predictions (re-scaling back the values to the \"age\" range, using the normalization factor defined earlier)\n",
        "  print('-----')\n",
        "  for i in range(0,10):\n",
        "    print('predicted age = %.3f - Ground truth = %.3f' %(predictions_st2_valid_final[i], Y_valid[i]*100))"
      ]
    },
    {
      "cell_type": "code",
      "execution_count": null,
      "metadata": {
        "id": "I1zWzVF2DwHl",
        "colab": {
          "base_uri": "https://localhost:8080/"
        },
        "outputId": "e6feda18-f0c6-4457-b41f-4468a7c08b00"
      },
      "outputs": [
        {
          "output_type": "stream",
          "name": "stdout",
          "text": [
            "62/62 [==============================] - 5s 82ms/step\n",
            "  adding: predictions.csv (deflated 56%)\n"
          ]
        }
      ],
      "source": [
        "import csv\n",
        "\n",
        "if(ENABLE_EVALUATION_ST2==True):\n",
        "  # predict on the validation data (normalized outputs)\n",
        "  predictions_st2_test = saved_model.predict(X_test, batch_size=32, verbose=1)\n",
        "\n",
        "  # re-scaling the predictions to the range of \"age\" as the outputs are in the range of [0,1]\n",
        "  predictions_st2_test_final = predictions_st2_test*100\n",
        "\n",
        "# saving the predictions as a csv file\n",
        "with open('predictions.csv', 'w') as csvFile:\n",
        "  writer = csv.writer(csvFile)\n",
        "  writer.writerows(predictions_st2_test_final)\n",
        "csvFile.close()\n",
        "\n",
        "# compressing the csv file (to be submitted to codalab as prediction)\n",
        "! zip predictions.zip predictions.csv"
      ]
    },
    {
      "cell_type": "markdown",
      "metadata": {
        "id": "TlPY4wbeUr_7"
      },
      "source": [
        "# **2. Bias mitigation strategies**\n",
        "\n",
        "- **Age bias** - group 1 : $age < 20$ , group 2 : $20 \\leq age < 40$ , group 3 : $ 40 \\leq age < 60$  ,  group 4 : $60 \\leq age$\n",
        "- **Gender bias** - group 1: *male*, group 2: *female*\n",
        "- **Ethnicity bias** - group 1: *asian* , group 2: *afroamerican* , group 3: *caucasian*\n",
        "- **Face expression bias** - group 1 : *neutral* , group 2 : *slightlyhappy* , group 3 : *happy* , group 4 : *other*\n"
      ]
    },
    {
      "cell_type": "code",
      "execution_count": null,
      "metadata": {
        "id": "umMOd4OpWP5y"
      },
      "outputs": [],
      "source": [
        "def age_bias(predictions, gt):\n",
        "  error_g1 = []\n",
        "  error_g2 = []\n",
        "  error_g3 = []\n",
        "  error_g4 = []\n",
        "  for i in range(0,len(gt)):\n",
        "    if(gt[i]<20):\n",
        "      error_g1.append(abs(predictions[i]-gt[i]))\n",
        "    if(gt[i]>=20 and gt[i]<40):\n",
        "      error_g2.append(abs(predictions[i]-gt[i]))\n",
        "    if(gt[i]>=40 and gt[i]<60):\n",
        "      error_g3.append(abs(predictions[i]-gt[i]))\n",
        "    if(gt[i]>=60):\n",
        "      error_g4.append(abs(predictions[i]-gt[i]))\n",
        "\n",
        "  print('=============================')\n",
        "  print('Age analysis:')\n",
        "  print('Size group 1 = %d, MAE = %f' %(len(error_g1), np.mean(error_g1)))\n",
        "  print('Size group 2 = %d, MAE = %f' %(len(error_g2), np.mean(error_g2)))\n",
        "  print('Size group 3 = %d, MAE = %f' %(len(error_g3), np.mean(error_g3)))\n",
        "  print('Size group 4 = %d, MAE = %f' %(len(error_g4), np.mean(error_g4)))\n",
        "\n",
        "  age_bias = (abs(np.mean(error_g1)-np.mean(error_g2)) +\n",
        "            abs(np.mean(error_g1)-np.mean(error_g3)) +\n",
        "            abs(np.mean(error_g1)-np.mean(error_g4)) +\n",
        "            abs(np.mean(error_g2)-np.mean(error_g3)) +\n",
        "            abs(np.mean(error_g2)-np.mean(error_g4)) +\n",
        "            abs(np.mean(error_g3)-np.mean(error_g4)))/6\n",
        "\n",
        "  print('---------')\n",
        "  print('Age bias (Ba) = ', age_bias)\n",
        "\n",
        "\n",
        "\n",
        "def gender_bias(predictions, gt, metadata):\n",
        "  error_m = []\n",
        "  error_f = []\n",
        "  for i in range(0,len(gt)):\n",
        "    if(metadata[i][0] == 'female'):\n",
        "      error_f.append(abs(predictions[i]-gt[i]))\n",
        "    else:\n",
        "      error_m.append(abs(predictions[i]-gt[i]))\n",
        "\n",
        "  print('=============================')\n",
        "  print('Gender analysis:')\n",
        "  print('Size group female = %d, MAE = %f' %(len(error_f), np.mean(error_f)))\n",
        "  print('Size group male = %d, MAE = %f' %(len(error_m), np.mean(error_m)))\n",
        "\n",
        "  gender_bias = abs(np.mean(error_f)-np.mean(error_m))\n",
        "\n",
        "  print('---------')\n",
        "  print('Gender bias (Bg) = ', gender_bias)\n",
        "\n",
        "\n",
        "\n",
        "def ethnicity_bias(predictions, gt, metadata):\n",
        "  error_as = []\n",
        "  error_af = []\n",
        "  error_ca = []\n",
        "  for i in range(0,len(gt)):\n",
        "    if(metadata[i][1] == 'asian'):\n",
        "      error_as.append(abs(predictions[i]-gt[i]))\n",
        "    if(metadata[i][1] == 'afroamerican'):\n",
        "      error_af.append(abs(predictions[i]-gt[i]))\n",
        "    if(metadata[i][1] == 'caucasian'):\n",
        "      error_ca.append(abs(predictions[i]-gt[i]))\n",
        "\n",
        "  print('=============================')\n",
        "  print('Ethnicity Analysis:')\n",
        "  print('Size group asian = %d, MAE = %f' %(len(error_as), np.mean(error_as)))\n",
        "  print('Size group afroamerican = %d, MAE = %f' %(len(error_af), np.mean(error_af)))\n",
        "  print('Size group caucasian = %d, MAE = %f' %(len(error_ca), np.mean(error_ca)))\n",
        "\n",
        "  ethnicity_bias = (abs(np.mean(error_as)-np.mean(error_af)) +\n",
        "                   abs(np.mean(error_as)-np.mean(error_ca)) +\n",
        "                   abs(np.mean(error_af)-np.mean(error_ca)))/3\n",
        "\n",
        "  print('---------')\n",
        "  print('Ethnicity bias (Be) = ', ethnicity_bias)\n",
        "\n",
        "\n",
        "\n",
        "def face_expression_bias(predictions, gt, metadata):\n",
        "  error_h = []\n",
        "  error_s = []\n",
        "  error_n = []\n",
        "  error_o = []\n",
        "  for i in range(0,len(gt)):\n",
        "    if(metadata[i][2]=='happy'):\n",
        "      error_h.append(abs(predictions[i]-gt[i]))\n",
        "    if(metadata[i][2]=='slightlyhappy'):\n",
        "      error_s.append(abs(predictions[i]-gt[i]))\n",
        "    if(metadata[i][2]=='neutral'):\n",
        "      error_n.append(abs(predictions[i]-gt[i]))\n",
        "    if(metadata[i][2]=='other'):\n",
        "      error_o.append(abs(predictions[i]-gt[i]))\n",
        "\n",
        "  print('=============================')\n",
        "  print('Face experession Analysis:')\n",
        "  print('Size group happy = %d, MAE = %f' %(len(error_h), np.mean(error_h)))\n",
        "  print('Size group slightlyhappy = %d, MAE = %f' %(len(error_s), np.mean(error_s)))\n",
        "  print('Size group neutral = %d, MAE = %f' %(len(error_n), np.mean(error_n)))\n",
        "  print('Size group other = %d, MAE = %f' %(len(error_o), np.mean(error_o)))\n",
        "\n",
        "  face_bias = (abs(np.mean(error_h)-np.mean(error_s)) +\n",
        "              abs(np.mean(error_h)-np.mean(error_n)) +\n",
        "              abs(np.mean(error_h)-np.mean(error_o)) +\n",
        "              abs(np.mean(error_s)-np.mean(error_n)) +\n",
        "              abs(np.mean(error_s)-np.mean(error_o)) +\n",
        "              abs(np.mean(error_n)-np.mean(error_o)))/6\n",
        "\n",
        "  print('---------')\n",
        "  print('Face Expression bias (Bf) = ', face_bias)\n",
        "\n",
        "\n"
      ]
    },
    {
      "cell_type": "code",
      "execution_count": null,
      "metadata": {
        "id": "9K2FDPqbyj96",
        "colab": {
          "base_uri": "https://localhost:8080/"
        },
        "outputId": "e0959e81-2d01-4201-b001-da97317eec4c"
      },
      "outputs": [
        {
          "output_type": "stream",
          "name": "stdout",
          "text": [
            "=============================\n",
            "Age analysis:\n",
            "Size group 1 = 305, MAE = 14.748948\n",
            "Size group 2 = 841, MAE = 5.551544\n",
            "Size group 3 = 275, MAE = 13.463801\n",
            "Size group 4 = 61, MAE = 19.876184\n",
            "---------\n",
            "Age bias (Ba) =  7.376511891682942\n",
            "=============================\n",
            "Gender analysis:\n",
            "Size group female = 716, MAE = 9.344352\n",
            "Size group male = 766, MAE = 9.649758\n",
            "---------\n",
            "Gender bias (Bg) =  0.30540657\n",
            "=============================\n",
            "Ethnicity Analysis:\n",
            "Size group asian = 116, MAE = 7.442870\n",
            "Size group afroamerican = 50, MAE = 9.527777\n",
            "Size group caucasian = 1316, MAE = 9.682757\n",
            "---------\n",
            "Ethnicity bias (Be) =  1.4932584762573242\n",
            "=============================\n",
            "Face experession Analysis:\n",
            "Size group happy = 403, MAE = 9.417423\n",
            "Size group slightlyhappy = 476, MAE = 8.851404\n",
            "Size group neutral = 492, MAE = 9.626518\n",
            "Size group other = 111, MAE = 12.049850\n",
            "---------\n",
            "Face Expression bias (Bf) =  1.6340723037719727\n"
          ]
        }
      ],
      "source": [
        "if(ENABLE_EVALUATION_ST2==True):\n",
        "  # computing the age bias (model_stage_2)\n",
        "  age_bias(predictions_st2_valid_final,Y_valid*100)\n",
        "\n",
        "  # computing the gender bias (model_stage_2)\n",
        "  gender_bias(predictions_st2_valid_final,Y_valid*100,M_valid)\n",
        "\n",
        "  # computing the ethnicity bias (model_stage_2)\n",
        "  ethnicity_bias(predictions_st2_valid_final,Y_valid*100,M_valid)\n",
        "\n",
        "  # computing the face bias (model_stage_2)\n",
        "  face_expression_bias(predictions_st2_valid_final,Y_valid*100,M_valid)"
      ]
    },
    {
      "cell_type": "markdown",
      "metadata": {
        "id": "4lqbRPFK62iL"
      },
      "source": [
        "# **a. Data augmentation**\n"
      ]
    },
    {
      "cell_type": "markdown",
      "source": [
        "\n",
        "## Visualizing the age and metadata distribution before augmentation"
      ],
      "metadata": {
        "id": "5BJGr6esx1QR"
      }
    },
    {
      "cell_type": "code",
      "source": [
        "import matplotlib.pyplot as plt\n",
        "\n",
        "fig, (ax1, ax2) = plt.subplots(1, 2, figsize=(15, 4))\n",
        "fig.suptitle('Age distribution before augmentation', fontsize=14, fontweight='bold')\n",
        "\n",
        "newYIndexes = np.where(np.isin(M_train[:,1],['asian']))[0]\n",
        "# labels are multiplied by 100 to show the original values\n",
        "ax1.hist(Y_train*100, bins = 50)\n",
        "ax1.set_title('Y_train labels')\n",
        "ax1.set(xlabel='Apparent age', ylabel='Num. of samples')\n",
        "ax1.set_xlim([0, 100])\n",
        "\n",
        "ax2.hist(Y_valid*100, bins = 50)\n",
        "ax2.set_title('Y_valid labels')\n",
        "ax2.set(xlabel='Apparent age', ylabel='Num. of samples')\n",
        "ax2.set_xlim([0, 100])\n",
        "\n",
        "gender = []\n",
        "etnhicity = []\n",
        "emotion = []\n",
        "for sample in M_train:\n",
        "  gender.append(sample[0])\n",
        "  etnhicity.append(sample[1])\n",
        "  emotion.append(sample[2])\n",
        "\n",
        "fig, (ax1, ax2, ax3) = plt.subplots(1, 3, figsize=(20, 4))\n",
        "fig.suptitle('Metadata distribution before augmentation', fontsize=14, fontweight='bold')\n",
        "\n",
        "ax1.hist(gender)\n",
        "ax2.hist(etnhicity)\n",
        "ax3.hist(emotion)"
      ],
      "metadata": {
        "id": "S-bPYAegiFY1",
        "colab": {
          "base_uri": "https://localhost:8080/",
          "height": 642
        },
        "outputId": "9ef23d46-4ec0-4bcc-d5f1-78fc8a30ec0e"
      },
      "execution_count": null,
      "outputs": [
        {
          "output_type": "execute_result",
          "data": {
            "text/plain": [
              "(array([1404.,    0.,    0., 1784.,    0.,    0.,  712.,    0.,    0.,\n",
              "         165.]),\n",
              " array([0. , 0.3, 0.6, 0.9, 1.2, 1.5, 1.8, 2.1, 2.4, 2.7, 3. ]),\n",
              " <a list of 10 Patch objects>)"
            ]
          },
          "metadata": {},
          "execution_count": 12
        },
        {
          "output_type": "display_data",
          "data": {
            "text/plain": [
              "<Figure size 1080x288 with 2 Axes>"
            ],
            "image/png": "[encoded data removed]"
          },
          "metadata": {
            "needs_background": "light"
          }
        },
        {
          "output_type": "display_data",
          "data": {
            "text/plain": [
              "<Figure size 1440x288 with 3 Axes>"
            ],
            "image/png": "[encoded data removed]"
          },
          "metadata": {
            "needs_background": "light"
          }
        }
      ]
    },
    {
      "cell_type": "markdown",
      "source": [
        "\n",
        "We augmente both the training set and the validation set.\n",
        "\n",
        "After several experiments, we decided to focus on augmenting age and ethnicity data, mainly because augmenting the other categories did not give better results, and sometimes worsened the MAE and most of the bias.\n",
        "\n",
        "We also did experiments to decide how we were going to augmente the data. For example, the babies, like old people, are under-represented in the data set. However, adding augmented images to the group worsened the bias, as people were now recognized as a lot younger than they actually were.\n",
        "\n",
        "We tried several combination, looking at the histogram of the category to help decide which group to augmente. Here, we added four augmented images for each image corresponding to a person over 60 years old (flip, rotation, brightness, contrast). We then added two additional augmented images for those over 70 years old and those between 10 and 14 years old.\n",
        "\n",
        "The six transformations were also applied to images corresponding to asians and african-americans."
      ],
      "metadata": {
        "id": "ZJkLSJqEiNak"
      }
    },
    {
      "cell_type": "code",
      "source": [
        "import cv2\n",
        "from scipy.ndimage import rotate\n",
        "from numpy import random\n",
        "# aux variables\n",
        "X_train_augmented = []\n",
        "Y_train_augmented = []\n",
        "M_train_augmented = []\n",
        "\n",
        "# loading the train data and labels\n",
        "X_train = np.load('./data/data_train.npy')\n",
        "Y_train = np.load('./data/labels_train.npy')\n",
        "Y_train = Y_train/100\n",
        "M_train = np.load('./data/meta_data_train.npy')\n",
        "print('Train set before augmentation = ', np.array(X_train).shape)\n",
        "\n",
        "# augmenting the data\n",
        "for i in range(0,len(X_train)):\n",
        "  # check if image is in the group 'age >= 60'\n",
        "\n",
        "  if (Y_train[i]*100 >= 60)  or (np.isin(M_train[i,1],['asian','afroamerican'])): # here labels are multiplied by 100 as they were normalized to be between [0,1]\n",
        "    # flip\n",
        "    X_train_augmented.append(cv2.flip(X_train[i], 1))\n",
        "    Y_train_augmented.append(Y_train[i])\n",
        "    M_train_augmented.append(M_train[i])\n",
        "\n",
        "    # rotate\n",
        "    X_train_augmented.append(rotate(X_train[i], angle=20,reshape=False))\n",
        "    Y_train_augmented.append(Y_train[i])\n",
        "    M_train_augmented.append(M_train[i])\n",
        "    X_train_augmented.append(rotate(X_train[i], angle=70,reshape=False))\n",
        "    Y_train_augmented.append(Y_train[i])\n",
        "    M_train_augmented.append(M_train[i])\n",
        "    X_train_augmented.append(rotate(X_train[i], angle=130,reshape=False))\n",
        "    Y_train_augmented.append(Y_train[i])\n",
        "    M_train_augmented.append(M_train[i])\n",
        "\n",
        "    # changing brightness\n",
        "    x_aux = cv2.cvtColor(X_train[i],cv2.COLOR_RGB2HSV)\n",
        "    x_aux[:,:,2] = x_aux[:,:,2]*.5+np.random.uniform()\n",
        "    X_train_augmented.append(cv2.cvtColor(x_aux,cv2.COLOR_HSV2RGB))\n",
        "    Y_train_augmented.append(Y_train[i])\n",
        "    M_train_augmented.append(M_train[i])\n",
        "\n",
        "    # changing contrast\n",
        "    x_test = cv2.cvtColor(X_train[i],cv2.COLOR_RGB2BGR)\n",
        "    lab = cv2.cvtColor(x_test, cv2.COLOR_BGR2LAB)\n",
        "    l_channel, a, b = cv2.split(lab)\n",
        "    clahe = cv2.createCLAHE(clipLimit=4.0, tileGridSize=(2,2))\n",
        "    cl = clahe.apply(l_channel)\n",
        "    limg = cv2.merge((cl,a,b))\n",
        "    x_test = cv2.cvtColor(limg, cv2.COLOR_LAB2BGR)\n",
        "    X_train_augmented.append(cv2.cvtColor(x_test, cv2.COLOR_BGR2RGB))\n",
        "    Y_train_augmented.append(Y_train[i])\n",
        "    M_train_augmented.append(M_train[i])\n",
        "\n",
        "  if (Y_train[i]*100 >= 70) or (Y_train[i]*100 <= 10 and Y_train[i]*100 >= 14)  or (np.isin(M_train[i,1],['asian','afroamerican'])):\n",
        "    # blur\n",
        "    X_train_augmented.append(cv2.GaussianBlur(X_train[i],(5,5),1.0))\n",
        "    Y_train_augmented.append(Y_train[i])\n",
        "    M_train_augmented.append(M_train[i])\n",
        "\n",
        "    # translation\n",
        "    rows, cols ,c= X_train[i].shape\n",
        "    M = np.float32([[1, 0, random.randint(-25, 25)], [0, 1, random.randint(-25, 25)]])\n",
        "    X_train_augmented.append(cv2.warpAffine(X_train[i], M, (cols, rows)))\n",
        "    Y_train_augmented.append(Y_train[i])\n",
        "    M_train_augmented.append(M_train[i])\n",
        "\n",
        "# adding the augmented images to the train set\n",
        "X_train = np.concatenate((X_train, X_train_augmented))\n",
        "Y_train = np.concatenate((Y_train, Y_train_augmented))\n",
        "M_train = np.concatenate((M_train, M_train_augmented))\n",
        "print('Train set after augmentation = ', np.array(X_train).shape)\n",
        "\n",
        "\n",
        "# post-processing the train data with respect to ResNet-50 Inputs.\n",
        "for i in range(0,X_train.shape[0]):\n",
        "  x = X_train[i,:,:,:]\n",
        "  x = np.expand_dims(x, axis=0)\n",
        "  X_train[i,] = tf.keras.applications.resnet50.preprocess_input(x)"
      ],
      "metadata": {
        "colab": {
          "base_uri": "https://localhost:8080/"
        },
        "id": "kz9eSan96j_c",
        "outputId": "7cd557ba-f074-49b3-9b66-e1fb0c9280a7"
      },
      "execution_count": null,
      "outputs": [
        {
          "output_type": "stream",
          "name": "stdout",
          "text": [
            "Train set before augmentation =  (4065, 224, 224, 3)\n",
            "Train set after augmentation =  (9323, 224, 224, 3)\n"
          ]
        }
      ]
    },
    {
      "cell_type": "markdown",
      "metadata": {
        "id": "IDzps0ccD2pR"
      },
      "source": [
        "## Visualizing the age and metadata distribution after augmentation"
      ]
    },
    {
      "cell_type": "code",
      "source": [
        "import matplotlib.pyplot as plt\n",
        "\n",
        "fig, (ax1, ax2) = plt.subplots(1, 2, figsize=(15, 4))\n",
        "fig.suptitle('Age distribution after augmentation', fontsize=14, fontweight='bold')\n",
        "\n",
        "newYIndexes = np.where(np.isin(M_train[:,1],['asian']))[0]\n",
        "# labels are multiplied by 100 to show the original values\n",
        "ax1.hist(Y_train*100, bins = 50)\n",
        "ax1.set_title('Y_train labels')\n",
        "ax1.set(xlabel='Apparent age', ylabel='Num. of samples')\n",
        "ax1.set_xlim([0, 100])\n",
        "\n",
        "ax2.hist(Y_valid*100, bins = 50)\n",
        "ax2.set_title('Y_valid labels')\n",
        "ax2.set(xlabel='Apparent age', ylabel='Num. of samples')\n",
        "ax2.set_xlim([0, 100])\n",
        "\n",
        "gender = []\n",
        "etnhicity = []\n",
        "emotion = []\n",
        "for sample in M_train:\n",
        "  gender.append(sample[0])\n",
        "  etnhicity.append(sample[1])\n",
        "  emotion.append(sample[2])\n",
        "\n",
        "fig, (ax1, ax2, ax3) = plt.subplots(1, 3, figsize=(20, 4))\n",
        "fig.suptitle('Metadata distribution after augmentation', fontsize=14, fontweight='bold')\n",
        "\n",
        "ax1.hist(gender)\n",
        "ax2.hist(etnhicity)\n",
        "ax3.hist(emotion)"
      ],
      "metadata": {
        "colab": {
          "base_uri": "https://localhost:8080/",
          "height": 642
        },
        "id": "pcJzARdwfIwJ",
        "outputId": "a2df9812-77c4-4120-a0ed-2802810a94bd"
      },
      "execution_count": null,
      "outputs": [
        {
          "output_type": "execute_result",
          "data": {
            "text/plain": [
              "(array([3406.,    0.,    0., 3920.,    0.,    0., 1610.,    0.,    0.,\n",
              "         387.]),\n",
              " array([0. , 0.3, 0.6, 0.9, 1.2, 1.5, 1.8, 2.1, 2.4, 2.7, 3. ]),\n",
              " <a list of 10 Patch objects>)"
            ]
          },
          "metadata": {},
          "execution_count": 15
        },
        {
          "output_type": "display_data",
          "data": {
            "text/plain": [
              "<Figure size 1080x288 with 2 Axes>"
            ],
            "image/png": "[encoded data removed]"
          },
          "metadata": {
            "needs_background": "light"
          }
        },
        {
          "output_type": "display_data",
          "data": {
            "text/plain": [
              "<Figure size 1440x288 with 3 Axes>"
            ],
            "image/png": "[encoded data removed]"
          },
          "metadata": {
            "needs_background": "light"
          }
        }
      ]
    },
    {
      "cell_type": "markdown",
      "metadata": {
        "id": "JiTXleG_Ik4r"
      },
      "source": [
        "\n",
        "## Training the model using the augmented data"
      ]
    },
    {
      "cell_type": "code",
      "execution_count": null,
      "metadata": {
        "id": "JJdYBDYiJp-q",
        "colab": {
          "base_uri": "https://localhost:8080/",
          "height": 1000
        },
        "outputId": "1f2d1403-2d8c-4e7c-aa55-f725f616598a"
      },
      "outputs": [
        {
          "output_type": "stream",
          "name": "stdout",
          "text": [
            "Epoch 1/50\n",
            "292/292 [==============================] - 117s 334ms/step - loss: 0.2082 - mae: 0.1299 - val_loss: 0.2097 - val_mae: 0.1448\n",
            "Epoch 2/50\n",
            "292/292 [==============================] - 95s 324ms/step - loss: 0.1834 - mae: 0.0714 - val_loss: 0.1844 - val_mae: 0.0854\n",
            "Epoch 3/50\n",
            "292/292 [==============================] - 95s 325ms/step - loss: 0.1728 - mae: 0.0533 - val_loss: 0.1759 - val_mae: 0.0801\n",
            "Epoch 4/50\n",
            "292/292 [==============================] - 95s 324ms/step - loss: 0.1639 - mae: 0.0411 - val_loss: 0.1675 - val_mae: 0.0760\n",
            "Epoch 5/50\n",
            "292/292 [==============================] - 95s 324ms/step - loss: 0.1562 - mae: 0.0352 - val_loss: 0.1628 - val_mae: 0.0821\n",
            "Epoch 6/50\n",
            "292/292 [==============================] - 95s 324ms/step - loss: 0.1489 - mae: 0.0308 - val_loss: 0.1540 - val_mae: 0.0769\n",
            "Epoch 7/50\n",
            "292/292 [==============================] - 95s 324ms/step - loss: 0.1423 - mae: 0.0292 - val_loss: 0.1480 - val_mae: 0.0760\n",
            "Epoch 8/50\n",
            "292/292 [==============================] - 95s 326ms/step - loss: 0.1358 - mae: 0.0258 - val_loss: 0.1411 - val_mae: 0.0723\n",
            "Epoch 9/50\n",
            "292/292 [==============================] - 95s 324ms/step - loss: 0.1298 - mae: 0.0234 - val_loss: 0.1353 - val_mae: 0.0718\n",
            "Epoch 10/50\n",
            "292/292 [==============================] - 95s 326ms/step - loss: 0.1243 - mae: 0.0228 - val_loss: 0.1304 - val_mae: 0.0723\n",
            "Epoch 11/50\n",
            "292/292 [==============================] - 95s 324ms/step - loss: 0.1191 - mae: 0.0210 - val_loss: 0.1251 - val_mae: 0.0709\n",
            "Epoch 12/50\n",
            "292/292 [==============================] - 95s 325ms/step - loss: 0.1143 - mae: 0.0198 - val_loss: 0.1205 - val_mae: 0.0712\n",
            "Epoch 13/50\n",
            "292/292 [==============================] - 96s 328ms/step - loss: 0.1098 - mae: 0.0189 - val_loss: 0.1166 - val_mae: 0.0728\n",
            "Epoch 14/50\n",
            "292/292 [==============================] - 95s 324ms/step - loss: 0.1056 - mae: 0.0179 - val_loss: 0.1122 - val_mae: 0.0716\n",
            "Epoch 15/50\n",
            "292/292 [==============================] - 95s 324ms/step - loss: 0.1017 - mae: 0.0170 - val_loss: 0.1086 - val_mae: 0.0714\n",
            "Epoch 16/50\n",
            "292/292 [==============================] - 95s 324ms/step - loss: 0.0981 - mae: 0.0163 - val_loss: 0.1052 - val_mae: 0.0711\n",
            "Epoch 17/50\n",
            "292/292 [==============================] - 95s 324ms/step - loss: 0.0947 - mae: 0.0152 - val_loss: 0.1021 - val_mae: 0.0725\n",
            "Epoch 18/50\n",
            "292/292 [==============================] - 95s 326ms/step - loss: 0.0916 - mae: 0.0152 - val_loss: 0.0991 - val_mae: 0.0711\n",
            "Epoch 19/50\n",
            "292/292 [==============================] - 95s 324ms/step - loss: 0.0888 - mae: 0.0146 - val_loss: 0.0966 - val_mae: 0.0718\n",
            "Epoch 20/50\n",
            "292/292 [==============================] - 95s 324ms/step - loss: 0.0861 - mae: 0.0141 - val_loss: 0.0936 - val_mae: 0.0706\n",
            "Epoch 21/50\n",
            "292/292 [==============================] - 95s 327ms/step - loss: 0.0837 - mae: 0.0134 - val_loss: 0.0912 - val_mae: 0.0705\n",
            "Epoch 22/50\n",
            "292/292 [==============================] - 95s 325ms/step - loss: 0.0815 - mae: 0.0127 - val_loss: 0.0891 - val_mae: 0.0704\n",
            "Epoch 23/50\n",
            "292/292 [==============================] - 96s 327ms/step - loss: 0.0794 - mae: 0.0121 - val_loss: 0.0871 - val_mae: 0.0701\n",
            "Epoch 24/50\n",
            "292/292 [==============================] - 95s 324ms/step - loss: 0.0775 - mae: 0.0117 - val_loss: 0.0856 - val_mae: 0.0707\n",
            "Epoch 25/50\n",
            "292/292 [==============================] - 95s 324ms/step - loss: 0.0759 - mae: 0.0112 - val_loss: 0.0838 - val_mae: 0.0697\n",
            "Epoch 26/50\n",
            "292/292 [==============================] - 95s 324ms/step - loss: 0.0743 - mae: 0.0110 - val_loss: 0.0824 - val_mae: 0.0703\n",
            "Epoch 27/50\n",
            "292/292 [==============================] - 95s 324ms/step - loss: 0.0729 - mae: 0.0105 - val_loss: 0.0810 - val_mae: 0.0695\n",
            "Epoch 28/50\n",
            "292/292 [==============================] - 95s 324ms/step - loss: 0.0717 - mae: 0.0105 - val_loss: 0.0798 - val_mae: 0.0700\n",
            "Epoch 29/50\n",
            "292/292 [==============================] - 95s 324ms/step - loss: 0.0705 - mae: 0.0099 - val_loss: 0.0788 - val_mae: 0.0706\n",
            "Epoch 30/50\n",
            "292/292 [==============================] - 95s 324ms/step - loss: 0.0695 - mae: 0.0100 - val_loss: 0.0779 - val_mae: 0.0702\n",
            "Epoch 31/50\n",
            "292/292 [==============================] - 95s 324ms/step - loss: 0.0686 - mae: 0.0095 - val_loss: 0.0771 - val_mae: 0.0702\n",
            "Epoch 32/50\n",
            "292/292 [==============================] - 95s 324ms/step - loss: 0.0678 - mae: 0.0095 - val_loss: 0.0763 - val_mae: 0.0700\n",
            "Epoch 33/50\n",
            "292/292 [==============================] - 95s 324ms/step - loss: 0.0671 - mae: 0.0093 - val_loss: 0.0756 - val_mae: 0.0699\n",
            "Epoch 34/50\n",
            "292/292 [==============================] - 95s 324ms/step - loss: 0.0665 - mae: 0.0093 - val_loss: 0.0751 - val_mae: 0.0702\n",
            "Epoch 35/50\n",
            "292/292 [==============================] - 95s 324ms/step - loss: 0.0659 - mae: 0.0089 - val_loss: 0.0745 - val_mae: 0.0699\n",
            "Epoch 36/50\n",
            "292/292 [==============================] - 95s 324ms/step - loss: 0.0655 - mae: 0.0088 - val_loss: 0.0742 - val_mae: 0.0701\n",
            "Epoch 37/50\n",
            "292/292 [==============================] - 95s 324ms/step - loss: 0.0651 - mae: 0.0087 - val_loss: 0.0739 - val_mae: 0.0703\n",
            "Epoch 38/50\n",
            "292/292 [==============================] - 95s 324ms/step - loss: 0.0647 - mae: 0.0086 - val_loss: 0.0735 - val_mae: 0.0703\n",
            "Epoch 39/50\n",
            "292/292 [==============================] - 95s 327ms/step - loss: 0.0644 - mae: 0.0084 - val_loss: 0.0731 - val_mae: 0.0702\n",
            "Epoch 40/50\n",
            "292/292 [==============================] - 95s 324ms/step - loss: 0.0641 - mae: 0.0083 - val_loss: 0.0729 - val_mae: 0.0702\n",
            "Epoch 41/50\n",
            "292/292 [==============================] - 95s 324ms/step - loss: 0.0638 - mae: 0.0082 - val_loss: 0.0727 - val_mae: 0.0705\n",
            "Epoch 42/50\n",
            "292/292 [==============================] - 95s 324ms/step - loss: 0.0636 - mae: 0.0079 - val_loss: 0.0725 - val_mae: 0.0703\n",
            "Epoch 43/50\n",
            "292/292 [==============================] - 95s 324ms/step - loss: 0.0634 - mae: 0.0081 - val_loss: 0.0723 - val_mae: 0.0703\n",
            "Epoch 44/50\n",
            "292/292 [==============================] - 95s 324ms/step - loss: 0.0632 - mae: 0.0080 - val_loss: 0.0721 - val_mae: 0.0702\n",
            "Epoch 45/50\n",
            "292/292 [==============================] - 95s 324ms/step - loss: 0.0631 - mae: 0.0083 - val_loss: 0.0719 - val_mae: 0.0701\n",
            "Epoch 46/50\n",
            "292/292 [==============================] - 95s 327ms/step - loss: 0.0629 - mae: 0.0081 - val_loss: 0.0718 - val_mae: 0.0702\n",
            "Epoch 47/50\n",
            "292/292 [==============================] - 95s 324ms/step - loss: 0.0628 - mae: 0.0081 - val_loss: 0.0717 - val_mae: 0.0701\n",
            "Epoch 48/50\n",
            "292/292 [==============================] - 95s 327ms/step - loss: 0.0627 - mae: 0.0077 - val_loss: 0.0716 - val_mae: 0.0702\n",
            "Epoch 49/50\n",
            "292/292 [==============================] - 95s 324ms/step - loss: 0.0626 - mae: 0.0080 - val_loss: 0.0716 - val_mae: 0.0703\n",
            "Epoch 50/50\n",
            "292/292 [==============================] - 95s 327ms/step - loss: 0.0626 - mae: 0.0080 - val_loss: 0.0715 - val_mae: 0.0702\n"
          ]
        },
        {
          "output_type": "error",
          "ename": "NameError",
          "evalue": "ignored",
          "traceback": [
            "\u001b[0;31m---------------------------------------------------------------------------\u001b[0m",
            "\u001b[0;31mNameError\u001b[0m                                 Traceback (most recent call last)",
            "\u001b[0;32m<ipython-input-17-6cc04c472239>\u001b[0m in \u001b[0;36m<module>\u001b[0;34m\u001b[0m\n\u001b[1;32m     44\u001b[0m \u001b[0;34m\u001b[0m\u001b[0m\n\u001b[1;32m     45\u001b[0m \u001b[0;32mwith\u001b[0m \u001b[0mopen\u001b[0m\u001b[0;34m(\u001b[0m\u001b[0;34m'/content/drive/MyDrive/computerVisionProject_Maelys/train_history_2nd_stage.pkl'\u001b[0m\u001b[0;34m,\u001b[0m \u001b[0;34m'wb'\u001b[0m\u001b[0;34m)\u001b[0m \u001b[0;32mas\u001b[0m \u001b[0mhandle\u001b[0m\u001b[0;34m:\u001b[0m\u001b[0;34m\u001b[0m\u001b[0;34m\u001b[0m\u001b[0m\n\u001b[0;32m---> 46\u001b[0;31m   \u001b[0mpickle\u001b[0m\u001b[0;34m.\u001b[0m\u001b[0mdump\u001b[0m\u001b[0;34m(\u001b[0m\u001b[0mhistory\u001b[0m\u001b[0;34m.\u001b[0m\u001b[0mhistory\u001b[0m\u001b[0;34m,\u001b[0m \u001b[0mhandle\u001b[0m\u001b[0;34m,\u001b[0m \u001b[0mprotocol\u001b[0m\u001b[0;34m=\u001b[0m\u001b[0mpickle\u001b[0m\u001b[0;34m.\u001b[0m\u001b[0mHIGHEST_PROTOCOL\u001b[0m\u001b[0;34m)\u001b[0m\u001b[0;34m\u001b[0m\u001b[0;34m\u001b[0m\u001b[0m\n\u001b[0m",
            "\u001b[0;31mNameError\u001b[0m: name 'pickle' is not defined"
          ]
        }
      ],
      "source": [
        "import pickle\n",
        "\n",
        "#--------------------------\n",
        "RESUME_TRAINING = False\n",
        "RESUME_FROM_EPOCH = 20\n",
        "#--------------------------\n",
        "# loading the saved model (best model learned at stage 1)\n",
        "if(RESUME_TRAINING == False):\n",
        "  saved_model = model\n",
        "else:\n",
        "  # resume training (stage 2)\n",
        "  saved_model = tf.keras.models.load_model('/content/drive/MyDrive/computerVisionProject_Maelys/best_model_2nd_stage_augmentation.h5')\n",
        "\n",
        "\n",
        "# setting all layers to traineble\n",
        "saved_model.trainable = True\n",
        "\n",
        "initial_learning_rate = 1e-4\n",
        "final_learning_rate = 1e-7\n",
        "batchSize = 32\n",
        "numEpochs = 50\n",
        "learning_rate_decay_factor = (final_learning_rate / initial_learning_rate)**(1/numEpochs)\n",
        "steps_per_epoch = int(len(X_train)/batchSize)\n",
        "\n",
        "lr_schedule = tf.keras.optimizers.schedules.ExponentialDecay(\n",
        "                initial_learning_rate=initial_learning_rate,\n",
        "                decay_steps=steps_per_epoch,\n",
        "                decay_rate=learning_rate_decay_factor,\n",
        "                staircase=True)\n",
        "\n",
        "\n",
        "# training all layers (2nd stage), given the model saved on stage 1\n",
        "saved_model.compile(tf.keras.optimizers.Adam(learning_rate=lr_schedule),loss=tf.keras.losses.MeanSquaredError(),metrics=['mae'])\n",
        "\n",
        "# defining the early stop criteria\n",
        "es = tf.keras.callbacks.EarlyStopping(monitor='val_loss', mode='min', verbose=1, patience=10)\n",
        "\n",
        "# saving the best model (2nd stage) based on val_loss with a different name\n",
        "mc = tf.keras.callbacks.ModelCheckpoint('/content/drive/MyDrive/computerVisionProject_Maelys/best_model_2nd_stage_augmentation.h5', monitor='val_loss', mode='min', save_best_only=True)\n",
        "\n",
        "\n",
        "if(RESUME_TRAINING == False):\n",
        "  history = saved_model.fit(X_train, Y_train, validation_data=(X_valid, Y_valid), batch_size=batchSize, epochs=numEpochs, shuffle=True, verbose=1, callbacks=[es,mc])\n",
        "else:\n",
        "  history = saved_model.fit(X_train, Y_train, validation_data=(X_valid, Y_valid), batch_size=batchSize, epochs=numEpochs, initial_epoch=RESUME_FROM_EPOCH, shuffle=True, verbose=1, callbacks=[es,mc])\n",
        "\n",
        "with open('/content/drive/MyDrive/computerVisionProject_Maelys/train_history_2nd_stage.pkl', 'wb') as handle:\n",
        "  pickle.dump(history.history, handle, protocol=pickle.HIGHEST_PROTOCOL)"
      ]
    },
    {
      "cell_type": "markdown",
      "metadata": {
        "id": "yDrT0WwDAMnb"
      },
      "source": [
        "## Evaluating the model (with data augmentation)"
      ]
    },
    {
      "cell_type": "code",
      "execution_count": null,
      "metadata": {
        "id": "C_8LL1RJAQCp",
        "colab": {
          "base_uri": "https://localhost:8080/"
        },
        "outputId": "0c472028-f556-43d1-990b-be1328dec1b7"
      },
      "outputs": [
        {
          "output_type": "stream",
          "name": "stdout",
          "text": [
            "47/47 [==============================] - 5s 94ms/step\n"
          ]
        }
      ],
      "source": [
        "# loading the saved model\n",
        "saved_model_2nd_augm = tf.keras.models.load_model('/content/drive/MyDrive/computerVisionProject_Maelys/best_model_2nd_stage_augmentation.h5')\n",
        "\n",
        "\n",
        "#--------------------------\n",
        "ENABLE_EVALUATION_ST2_AUGMENTED = True\n",
        "#--------------------------\n",
        "\n",
        "if(ENABLE_EVALUATION_ST2_AUGMENTED==True):\n",
        "  # predict on the test data\n",
        "  predictions_st2_augmented = saved_model_2nd_augm.predict(X_valid, batch_size=32, verbose=1)\n",
        "  # re-scaling the output predictions (from [0,1] to age range) using the\n",
        "  # the normalization factor mentioned before\n",
        "  predictions_st2_augmented_final = predictions_st2_augmented*100\n"
      ]
    },
    {
      "cell_type": "code",
      "execution_count": null,
      "metadata": {
        "id": "Y1HljLcyBqI1",
        "colab": {
          "base_uri": "https://localhost:8080/"
        },
        "outputId": "d771403f-7c31-4726-eab7-54110911e1be"
      },
      "outputs": [
        {
          "output_type": "stream",
          "name": "stdout",
          "text": [
            "MAE (validation) = 6.24464211\n",
            "62/62 [==============================] - 5s 82ms/step\n",
            "updating: predictions.csv (deflated 55%)\n"
          ]
        }
      ],
      "source": [
        "import csv\n",
        "\n",
        "if(ENABLE_EVALUATION_ST2_AUGMENTED==True):\n",
        "  # evaluating on validation data\n",
        "  error = []\n",
        "  for i in range(0,len(Y_valid)):\n",
        "    error.append(abs(np.subtract(predictions_st2_augmented_final[i][0],Y_valid[i]*100)))\n",
        "\n",
        "  print('MAE (validation) = %.8f' %(np.mean(error)))\n",
        "\n",
        "  # predict on the validation data (normalized outputs)\n",
        "  predictions_st2_test = saved_model_2nd_augm.predict(X_test, batch_size=32, verbose=1)\n",
        "\n",
        "  # re-scaling the predictions to the range of \"age\" as the outputs are in the range of [0,1]\n",
        "  predictions_st2_test_final = predictions_st2_test*100\n",
        "\n",
        "# saving the predictions as a csv file\n",
        "with open('predictions.csv', 'w') as csvFile:\n",
        "  writer = csv.writer(csvFile)\n",
        "  writer.writerows(predictions_st2_test_final)\n",
        "csvFile.close()\n",
        "\n",
        "# compressing the csv file (to be submitted to codalab as prediction)\n",
        "! zip predictions.zip predictions.csv"
      ]
    },
    {
      "cell_type": "code",
      "execution_count": null,
      "metadata": {
        "id": "7F9LfW1ZCBrI",
        "colab": {
          "base_uri": "https://localhost:8080/"
        },
        "outputId": "827b5e4f-4cec-4e4b-a8f0-eee14314ac97"
      },
      "outputs": [
        {
          "output_type": "stream",
          "name": "stdout",
          "text": [
            "=============================\n",
            "Age analysis:\n",
            "Size group 1 = 305, MAE = 7.086312\n",
            "Size group 2 = 841, MAE = 4.874272\n",
            "Size group 3 = 275, MAE = 8.307129\n",
            "Size group 4 = 61, MAE = 11.631325\n",
            "---------\n",
            "Age bias (Ba) =  3.581995964050293\n",
            "=============================\n",
            "Gender analysis:\n",
            "Size group female = 716, MAE = 6.209458\n",
            "Size group male = 766, MAE = 6.277531\n",
            "---------\n",
            "Gender bias (Bg) =  0.068072796\n",
            "=============================\n",
            "Ethnicity Analysis:\n",
            "Size group asian = 116, MAE = 5.402485\n",
            "Size group afroamerican = 50, MAE = 5.172420\n",
            "Size group caucasian = 1316, MAE = 6.359612\n",
            "---------\n",
            "Ethnicity bias (Be) =  0.7914616266886393\n",
            "=============================\n",
            "Face experession Analysis:\n",
            "Size group happy = 403, MAE = 6.672400\n",
            "Size group slightlyhappy = 476, MAE = 6.030605\n",
            "Size group neutral = 492, MAE = 6.031218\n",
            "Size group other = 111, MAE = 6.555453\n",
            "---------\n",
            "Face Expression bias (Bf) =  0.40826988220214844\n"
          ]
        }
      ],
      "source": [
        "if(ENABLE_EVALUATION_ST2_AUGMENTED==True):\n",
        "  # computing the age bias (model_stage_2) - with data augmentation\n",
        "  age_bias(predictions_st2_augmented_final,Y_valid*100)\n",
        "\n",
        "  # computing the gender bias (model_stage_2)\n",
        "  gender_bias(predictions_st2_augmented_final,Y_valid*100,M_valid)\n",
        "\n",
        "  # computing the ethnicity bias (model_stage_2)\n",
        "  ethnicity_bias(predictions_st2_augmented_final,Y_valid*100,M_valid)\n",
        "\n",
        "  # computing the face bias (model_stage_2)\n",
        "  face_expression_bias(predictions_st2_augmented_final,Y_valid*100,M_valid)"
      ]
    },
    {
      "cell_type": "markdown",
      "metadata": {
        "id": "xjkJNXGilNfo"
      },
      "source": [
        "# **b. Custom loss**"
      ]
    },
    {
      "cell_type": "markdown",
      "metadata": {
        "id": "RGjU8Xetxl3W"
      },
      "source": [
        "# Load the Train data again (to remove the augmented data) and generate the weigths\n",
        "- First, we will generate a weight for each age group (for g =1 to 4);\n",
        "- The formula used to calculate the weight for each group $j$ is:\n",
        "\n",
        "  $w_j=n_{samples} / (n_{classes} * n_{samples,j}),$\n",
        "\n",
        "  Where\n",
        "\n",
        "    - $w_j$ is the weight for each group $j$,\n",
        "    - $n_{samples}$ is the number of samples in the train set,\n",
        "    - $n_{classes}$ is the number of classes (4 in our case, as we divided the ages in 4 groups),\n",
        "    - $n_{samples,j}$ is the number of samples of class (group) $j$.\n"
      ]
    },
    {
      "cell_type": "code",
      "execution_count": null,
      "metadata": {
        "id": "svMMpvU9xcJR",
        "colab": {
          "base_uri": "https://localhost:8080/"
        },
        "outputId": "00c78be0-fad2-4d49-8c39-45ff9565edd3"
      },
      "outputs": [
        {
          "output_type": "stream",
          "name": "stdout",
          "text": [
            "group(s) size =  [796, 2389, 732, 148]\n",
            "weights per group =  [1.27669598 0.42538719 1.38831967 6.86655405]\n"
          ]
        }
      ],
      "source": [
        "# loading the train data again (original face images, before preprocessing):\n",
        "X_train = np.load('./data/data_train.npy')\n",
        "Y_train = np.load('./data/labels_train.npy')\n",
        "Y_train = Y_train/100 # normalizing the age values to be between [0,1]\n",
        "\n",
        "# preprocessing the train data with respect to ResNet-50 Inputs.\n",
        "for i in range(0,X_train.shape[0]):\n",
        "  x = X_train[i,:,:,:]\n",
        "  x = np.expand_dims(x, axis=0)\n",
        "  X_train[i,] = tf.keras.applications.resnet50.preprocess_input(x)\n",
        "\n",
        "# counting the number of samples per group in the train data (age attribute only)\n",
        "g1 = g2 = g3 = g4 = 0\n",
        "for i in range(0,Y_train.shape[0]):\n",
        "    if(Y_train[i]*100<20):\n",
        "      g1 +=1\n",
        "    if(Y_train[i]*100>=20 and Y_train[i]*100<40):\n",
        "      g2 +=1\n",
        "    if(Y_train[i]*100>=40 and Y_train[i]*100<60):\n",
        "      g3 +=1\n",
        "    if(Y_train[i]*100>=60):\n",
        "      g4 +=1\n",
        "print('group(s) size = ', [g1, g2, g3, g4])\n",
        "\n",
        "# generating the weights for each group using the equation defined above\n",
        "w = sum(np.array([g1, g2, g3, g4]))/(4*np.array([g1, g2, g3, g4]))\n",
        "print('weights per group = ', w)\n",
        "\n",
        "# creating a vector with same size as Y_train, that will link a particular label to its weight\n",
        "sample_weights = []\n",
        "for i in range(0,Y_train.shape[0]):\n",
        "    if(Y_train[i]*100<20):\n",
        "      sample_weights.append(w[0])\n",
        "    if(Y_train[i]*100>=20 and Y_train[i]*100<40):\n",
        "      sample_weights.append(w[1])\n",
        "    if(Y_train[i]*100>=40 and Y_train[i]*100<60):\n",
        "      sample_weights.append(w[2])\n",
        "    if(Y_train[i]*100>=60):\n",
        "      sample_weights.append(w[3])\n",
        "sample_weights = np.array(sample_weights)"
      ]
    },
    {
      "cell_type": "markdown",
      "metadata": {
        "id": "5gTtMXGmx5jA"
      },
      "source": [
        "# I) Using the SAMPLE WEIGHTS to train our model and,\n",
        "- Next, you will see the code we used to train our model (2nd stage) from the model we obtained at the 1st stage, using the customized loss option with sample weights.\n",
        "- As default, the code will load the model already trained.\n",
        "- You can change the boolean variable 'LOAD_BEST_MODEL_ST2_WEIGHTED_LOSS' to False to train your model.\n",
        "- Note, now we include other variables ('RESUME_TRAINING' and 'RESUME_FROM_EPOCH') to allow us resuming training, as well as to inform from what epoch we want to resume the trainind, detailed below.\n",
        "\n",
        "# II) illustrating how to train + save + stop training + RESUME TRAINING\n",
        "- **Imagine** you set 'LOAD_BEST_MODEL_ST2_WEIGHTED_LOSS = False', 'NUM_EPOCHS = 12' and 'RESUME_TRAINING = False' to train your model the first time.\n",
        "- Due to Colab limitations, your process stoped the training at the middle of epoch 10, and you saved the best model based on validation loss on epoch 9.\n",
        "- In the above example, you can resume training from epoch 9 by setting the following parameters:\n",
        "  - 'RESUME_TRAINING = True'\n",
        "  - 'RESUME_FROM_EPOCH = 9'\n",
        "\n",
        "- IMPORTANT: to resume training, you will need to monitor the epoch number where your model stopped before resuming the training, and change the defined variables properly.\n",
        "  - Note that the fit function is adapted to receive the sample weights ('sample_weight=sample_weights').\n",
        "  - Also note that the fit function changes if you are training from epoch 0 (initial_epoch=0) or resume training (initial_epoch=RESUME_FROM_EPOCH).\n",
        "  - Finally, note that when you are resuming training, you load your 'best_model_2nd_stage_weighted.h5' instead of the model trained at stage 1 ('best_model.h5').\n"
      ]
    },
    {
      "cell_type": "code",
      "execution_count": null,
      "metadata": {
        "id": "tjEx3B3lx8Mu",
        "colab": {
          "base_uri": "https://localhost:8080/"
        },
        "outputId": "c0d26f3e-6c3d-45d5-a2e0-773449ca71b5"
      },
      "outputs": [
        {
          "output_type": "stream",
          "name": "stdout",
          "text": [
            "--2022-09-06 09:19:43--  https://data.chalearnlap.cvc.uab.cat/Colab_2021/best_model_weighted.zip\n",
            "Resolving data.chalearnlap.cvc.uab.cat (data.chalearnlap.cvc.uab.cat)... 158.109.8.102\n",
            "Connecting to data.chalearnlap.cvc.uab.cat (data.chalearnlap.cvc.uab.cat)|158.109.8.102|:443... connected.\n",
            "HTTP request sent, awaiting response... 200 OK\n",
            "Length: 271396890 (259M) [application/zip]\n",
            "Saving to: ‘best_model_weighted.zip’\n",
            "\n",
            "best_model_weighted 100%[===================>] 258.82M  21.5MB/s    in 27s     \n",
            "\n",
            "2022-09-06 09:20:11 (9.48 MB/s) - ‘best_model_weighted.zip’ saved [271396890/271396890]\n",
            "\n",
            "Model decompressed successfully\n"
          ]
        }
      ],
      "source": [
        "#--------------------------\n",
        "LOAD_BEST_MODEL_ST2_WEIGHTED_LOSS = True\n",
        "NUM_EPOCHS = 12\n",
        "#--------------------------\n",
        "RESUME_TRAINING = False\n",
        "RESUME_FROM_EPOCH = 9\n",
        "#--------------------------\n",
        "\n",
        "if(LOAD_BEST_MODEL_ST2_WEIGHTED_LOSS==True):\n",
        "  # downloading the trained model\n",
        "  !wget https://data.chalearnlap.cvc.uab.cat/Colab_2021/best_model_weighted.zip\n",
        "  # decompressing the data\n",
        "  with ZipFile('best_model_weighted.zip','r') as zip:\n",
        "    zip.extractall()\n",
        "    print('Model decompressed successfully')\n",
        "  # removing the .zip file after extraction  to clean space\n",
        "  !rm best_model_weighted.zip\n",
        "\n",
        "else:\n",
        "  # loading the saved model (best model learned at stage 1)\n",
        "  if(RESUME_TRAINING == False):\n",
        "    saved_model = tf.keras.models.load_model('best_model.h5') # load model from stage 1\n",
        "  else:\n",
        "    # resume training (stage 2)\n",
        "    saved_model = tf.keras.models.load_model('/content/drive/MyDrive/computerVisionProject_Maelys/best_model_2nd_stage_weighted.h5')\n",
        "\n",
        "  # setting all layers to traineble\n",
        "  saved_model.trainable = True\n",
        "\n",
        "  #=================================================\n",
        "  # training all layers (2nd stage), given the model saved on stage 1\n",
        "  saved_model.compile(tf.keras.optimizers.Adam(learning_rate=1e-5),loss=tf.keras.losses.MeanSquaredError(),metrics=['mae'])\n",
        "  #=================================================\n",
        "\n",
        "  # defining the early stop criteria\n",
        "  es = tf.keras.callbacks.EarlyStopping(monitor='val_loss', mode='min', verbose=1, patience=5)\n",
        "  mc = tf.keras.callbacks.ModelCheckpoint('/content/drive/MyDrive/computerVisionProject_Maelys/best_model_2nd_stage_weighted.h5', monitor='val_loss', mode='min', save_best_only=True)\n",
        "\n",
        "  if(RESUME_TRAINING == False):\n",
        "    history = saved_model.fit(X_train, Y_train, sample_weight=sample_weights, validation_data=(X_valid, Y_valid), batch_size=16, epochs=NUM_EPOCHS, initial_epoch=0, shuffle=True, verbose=1, callbacks=[es,mc])\n",
        "  else:\n",
        "    history = saved_model.fit(X_train, Y_train, sample_weight=sample_weights, validation_data=(X_valid, Y_valid), batch_size=16, epochs=NUM_EPOCHS, initial_epoch=RESUME_FROM_EPOCH, shuffle=True, verbose=1, callbacks=[es,mc])\n"
      ]
    },
    {
      "cell_type": "markdown",
      "metadata": {
        "id": "D7kqieNu7zDS"
      },
      "source": [
        "# Making predictions on the Validation set and Evaluating\n",
        "- Note that in this case, the model obtained MAE = 11.32504168, which is not the best score compared to the ones obtained before. However, are the evaluated biases better? Let's see!"
      ]
    },
    {
      "cell_type": "code",
      "execution_count": null,
      "metadata": {
        "id": "OYq1tCet70bN",
        "colab": {
          "base_uri": "https://localhost:8080/"
        },
        "outputId": "bf92b88c-bb4c-42bd-f32a-dcbb332845b7"
      },
      "outputs": [
        {
          "output_type": "stream",
          "name": "stdout",
          "text": [
            "47/47 [==============================] - 207s 4s/step\n"
          ]
        }
      ],
      "source": [
        "if(LOAD_BEST_MODEL_ST2_WEIGHTED_LOSS==True):\n",
        "  saved_model_2nd_weighted = tf.keras.models.load_model('best_model_2nd_stage_weighted.h5')\n",
        "else:\n",
        "  saved_model_2nd_weighted = tf.keras.models.load_model('/content/drive/MyDrive/computerVisionProject_Maelys/best_model_2nd_stage_weighted.h5')\n",
        "\n",
        "#--------------------------\n",
        "ENABLE_EVALUATION_WEIGHTED = True\n",
        "#--------------------------\n",
        "\n",
        "if(ENABLE_EVALUATION_WEIGHTED==True):\n",
        "  # predict on the test data\n",
        "  predictions_st2_weighted = saved_model_2nd_weighted.predict(X_valid, batch_size=32, verbose=1)\n",
        "  # re-scaling the output predictions (from [0,1] to age range) using the\n",
        "  # the normalization factor mentioned before\n",
        "  predictions_st2_weighted_final = predictions_st2_weighted*100"
      ]
    },
    {
      "cell_type": "code",
      "execution_count": null,
      "metadata": {
        "id": "cCyMYVPgILxq",
        "colab": {
          "base_uri": "https://localhost:8080/"
        },
        "outputId": "dcd24cf5-e74c-4798-c0da-f39eca87316a"
      },
      "outputs": [
        {
          "output_type": "stream",
          "name": "stdout",
          "text": [
            "MAE (Validation) = 11.32504168\n",
            "predicted age = 21.446 - Ground truth = 26.231\n",
            "predicted age = 47.882 - Ground truth = 27.256\n",
            "predicted age = 21.450 - Ground truth = 23.143\n",
            "predicted age = 41.488 - Ground truth = 73.289\n",
            "predicted age = 18.906 - Ground truth = 20.143\n",
            "predicted age = 17.529 - Ground truth = 25.083\n",
            "predicted age = 44.479 - Ground truth = 34.769\n",
            "predicted age = 12.614 - Ground truth = 1.162\n",
            "predicted age = 41.278 - Ground truth = 4.846\n",
            "predicted age = 0.000 - Ground truth = 1.378\n",
            "predicted age = 20.264 - Ground truth = 29.897\n",
            "predicted age = 18.607 - Ground truth = 44.000\n",
            "predicted age = 42.518 - Ground truth = 27.187\n",
            "predicted age = 27.191 - Ground truth = 33.611\n",
            "predicted age = 34.087 - Ground truth = 1.167\n",
            "predicted age = 45.582 - Ground truth = 49.533\n",
            "predicted age = 4.016 - Ground truth = 2.436\n",
            "predicted age = 51.050 - Ground truth = 53.385\n",
            "predicted age = 30.119 - Ground truth = 51.625\n",
            "predicted age = 38.005 - Ground truth = 28.478\n"
          ]
        }
      ],
      "source": [
        "if(ENABLE_EVALUATION_WEIGHTED==True):\n",
        "  # evaluating on Validation data\n",
        "  error = []\n",
        "  for i in range(0,len(Y_valid)):\n",
        "    error.append(abs(np.subtract(predictions_st2_weighted_final[i][0],Y_valid[i]*100)))\n",
        "\n",
        "  print('MAE (Validation) = %.8f' %(np.mean(error)))\n",
        "\n",
        "# printing some predictions\n",
        "for i in range(0,20):\n",
        "  print('predicted age = %.3f - Ground truth = %.3f' %(predictions_st2_weighted_final[i], Y_valid[i]*100))"
      ]
    },
    {
      "cell_type": "markdown",
      "metadata": {
        "id": "NpJCmvGQXDIS"
      },
      "source": [
        "# Comparing the 2nd stage of training:\n",
        "case a) without augmentation and custom loss **VS.** case b) without augmentation but with custom loss.\n",
        "- Age bias:\n",
        "  - case a: 6.914151509602864\n",
        "  - case b: 2.134239355723063\n",
        "- Gender bias:\n",
        "  - case a: 0.54991627\n",
        "  - case b: 0.018253326\n",
        "- Ethnicity bias:\n",
        "  - case a: 1.5803696314493816\n",
        "  - case b: 1.4811725616455078\n",
        "- Face Expression bias:\n",
        "  - case a: 0.7598605155944824\n",
        "  - case b: 0.6052371660868326\n",
        "\n",
        "As it can be observed, the model with custom loss and weighted samples obtained smaller bias scores on all evaluated attributes (on the validation set), even if the weigts were defined based on age attribute only. **The overal goal of the practical sessions is that you define a new strategy to increse accuracy (overall and per attribute) while minimizing bias**."
      ]
    },
    {
      "cell_type": "code",
      "execution_count": null,
      "metadata": {
        "id": "YjrDG9AHLoPf",
        "colab": {
          "base_uri": "https://localhost:8080/"
        },
        "outputId": "ad8b1078-ec26-4d0a-f433-0acade866d92"
      },
      "outputs": [
        {
          "output_type": "stream",
          "name": "stdout",
          "text": [
            "=============================\n",
            "Age analysis:\n",
            "Size group 1 = 305, MAE = 9.999447\n",
            "Size group 2 = 841, MAE = 8.002157\n",
            "Size group 3 = 275, MAE = 12.887999\n",
            "Size group 4 = 61, MAE = 20.867607\n",
            "---------\n",
            "Age bias (Ba) =  6.914150238037109\n",
            "=============================\n",
            "Age analysis:\n",
            "Size group 1 = 305, MAE = 11.057299\n",
            "Size group 2 = 841, MAE = 11.096247\n",
            "Size group 3 = 275, MAE = 11.461246\n",
            "Size group 4 = 61, MAE = 15.204104\n",
            "---------\n",
            "Age bias (Ba) =  2.1342361768086753\n",
            "=============================\n",
            "Gender analysis:\n",
            "Size group female = 716, MAE = 9.565139\n",
            "Size group male = 766, MAE = 10.115053\n",
            "---------\n",
            "Gender bias (Bg) =  0.54991436\n",
            "=============================\n",
            "Gender analysis:\n",
            "Size group female = 716, MAE = 11.334474\n",
            "Size group male = 766, MAE = 11.316227\n",
            "---------\n",
            "Gender bias (Bg) =  0.01824665\n",
            "=============================\n",
            "Ethnicity Analysis:\n",
            "Size group asian = 116, MAE = 9.278396\n",
            "Size group afroamerican = 50, MAE = 7.614061\n",
            "Size group caucasian = 1316, MAE = 9.984631\n",
            "---------\n",
            "Ethnicity bias (Be) =  1.5803794860839844\n",
            "=============================\n",
            "Ethnicity Analysis:\n",
            "Size group asian = 116, MAE = 12.070345\n",
            "Size group afroamerican = 50, MAE = 9.848596\n",
            "Size group caucasian = 1316, MAE = 11.315442\n",
            "---------\n",
            "Ethnicity bias (Be) =  1.4811662038167317\n",
            "=============================\n",
            "Face experession Analysis:\n",
            "Size group happy = 403, MAE = 9.681181\n",
            "Size group slightlyhappy = 476, MAE = 9.799252\n",
            "Size group neutral = 492, MAE = 9.735502\n",
            "Size group other = 111, MAE = 11.179666\n",
            "---------\n",
            "Face Expression bias (Bf) =  0.7598671913146973\n",
            "=============================\n",
            "Face experession Analysis:\n",
            "Size group happy = 403, MAE = 11.521846\n",
            "Size group slightlyhappy = 476, MAE = 11.808993\n",
            "Size group neutral = 492, MAE = 10.761567\n",
            "Size group other = 111, MAE = 11.032749\n",
            "---------\n",
            "Face Expression bias (Bf) =  0.6052292188008627\n"
          ]
        }
      ],
      "source": [
        "if(ENABLE_EVALUATION_ST2==True and ENABLE_EVALUATION_WEIGHTED==True):\n",
        "  age_bias(predictions_st2_valid_final,Y_valid*100)\n",
        "  age_bias(predictions_st2_weighted_final,Y_valid*100)\n",
        "\n",
        "  gender_bias(predictions_st2_valid_final,Y_valid*100,M_valid)\n",
        "  gender_bias(predictions_st2_weighted_final,Y_valid*100,M_valid)\n",
        "\n",
        "  ethnicity_bias(predictions_st2_valid_final,Y_valid*100,M_valid)\n",
        "  ethnicity_bias(predictions_st2_weighted_final,Y_valid*100,M_valid)\n",
        "\n",
        "  face_expression_bias(predictions_st2_valid_final,Y_valid*100,M_valid)\n",
        "  face_expression_bias(predictions_st2_weighted_final,Y_valid*100,M_valid)"
      ]
    },
    {
      "cell_type": "markdown",
      "source": [
        "# Model built from scratch"
      ],
      "metadata": {
        "id": "L2GHZC3OF4x2"
      }
    },
    {
      "cell_type": "code",
      "source": [
        "from keras.models import Sequential\n",
        "from tensorflow.keras.layers import Dense, Flatten, Dropout,Activation, SeparableConv2D\n",
        "from tensorflow.keras.layers import MaxPooling2D, SpatialDropout2D\n",
        "from tensorflow.keras.layers import BatchNormalization\n",
        "from tensorflow.keras.callbacks import ModelCheckpoint\n",
        "\n",
        "\n",
        "age_model = Sequential()\n",
        "\n",
        "age_model.add(SeparableConv2D(64, (3, 3), padding=\"same\", input_shape = (224,224, 3), activation = \"relu\"))\n",
        "age_model.add(MaxPooling2D(pool_size=(2, 2)))\n",
        "age_model.add(BatchNormalization())\n",
        "\n",
        "age_model.add(SeparableConv2D(128, (3, 3), padding=\"same\", activation=\"relu\"))\n",
        "age_model.add(MaxPooling2D(pool_size=(2, 2)))\n",
        "age_model.add(BatchNormalization())\n",
        "\n",
        "age_model.add(SeparableConv2D(128, (3, 3), padding=\"same\", activation = \"relu\"))\n",
        "age_model.add(MaxPooling2D(pool_size=(2, 2)))\n",
        "age_model.add(SpatialDropout2D(0.15))\n",
        "age_model.add(BatchNormalization())\n",
        "\n",
        "age_model.add(SeparableConv2D(256, (3, 3), padding=\"same\", activation=\"relu\"))\n",
        "age_model.add(Activation(\"relu\"))\n",
        "age_model.add(MaxPooling2D(pool_size=(2, 2)))\n",
        "age_model.add(SpatialDropout2D(0.15))\n",
        "age_model.add(BatchNormalization())\n",
        "\n",
        "age_model.add(SeparableConv2D(256, (3, 3), padding=\"same\", activation = \"relu\"))\n",
        "age_model.add(MaxPooling2D(pool_size=(2, 2)))\n",
        "age_model.add(SpatialDropout2D(0.15))\n",
        "age_model.add(BatchNormalization())\n",
        "\n",
        "age_model.add(Flatten())\n",
        "\n",
        "age_model.add(Dense(128, activation = \"relu\"))\n",
        "age_model.add(Dropout(0.30))\n",
        "age_model.add(BatchNormalization())\n",
        "\n",
        "age_model.add(Dense(64, activation = \"relu\"))\n",
        "age_model.add(Dropout(0.30))\n",
        "age_model.add(BatchNormalization())\n",
        "\n",
        "age_model.add(Dense(64, activation = \"relu\"))\n",
        "age_model.add(Dropout(0.20))\n",
        "age_model.add(BatchNormalization())\n",
        "\n",
        "age_model.add(Dense(1, activation = \"relu\"))\n",
        "\n",
        "age_model.summary()\n",
        "\n",
        "\n",
        "\n",
        "age_model.compile(loss='mse', optimizer='adam', metrics=['mae'])\n",
        "\n",
        "\n",
        "history = age_model.fit(X_train, Y_train, validation_data=(X_valid,Y_valid),epochs=30)\n"
      ],
      "metadata": {
        "colab": {
          "base_uri": "https://localhost:8080/"
        },
        "id": "an_vNbNNSTJf",
        "outputId": "73bb8a97-0115-419b-e28d-933057fdba45"
      },
      "execution_count": null,
      "outputs": [
        {
          "output_type": "stream",
          "name": "stdout",
          "text": [
            "Model: \"sequential\"\n",
            "_________________________________________________________________\n",
            " Layer (type)                Output Shape              Param #   \n",
            "=================================================================\n",
            " separable_conv2d (Separable  (None, 224, 224, 64)     283       \n",
            " Conv2D)                                                         \n",
            "                                                                 \n",
            " max_pooling2d (MaxPooling2D  (None, 112, 112, 64)     0         \n",
            " )                                                               \n",
            "                                                                 \n",
            " batch_normalization (BatchN  (None, 112, 112, 64)     256       \n",
            " ormalization)                                                   \n",
            "                                                                 \n",
            " separable_conv2d_1 (Separab  (None, 112, 112, 128)    8896      \n",
            " leConv2D)                                                       \n",
            "                                                                 \n",
            " max_pooling2d_1 (MaxPooling  (None, 56, 56, 128)      0         \n",
            " 2D)                                                             \n",
            "                                                                 \n",
            " batch_normalization_1 (Batc  (None, 56, 56, 128)      512       \n",
            " hNormalization)                                                 \n",
            "                                                                 \n",
            " separable_conv2d_2 (Separab  (None, 56, 56, 128)      17664     \n",
            " leConv2D)                                                       \n",
            "                                                                 \n",
            " max_pooling2d_2 (MaxPooling  (None, 28, 28, 128)      0         \n",
            " 2D)                                                             \n",
            "                                                                 \n",
            " spatial_dropout2d (SpatialD  (None, 28, 28, 128)      0         \n",
            " ropout2D)                                                       \n",
            "                                                                 \n",
            " batch_normalization_2 (Batc  (None, 28, 28, 128)      512       \n",
            " hNormalization)                                                 \n",
            "                                                                 \n",
            " separable_conv2d_3 (Separab  (None, 28, 28, 256)      34176     \n",
            " leConv2D)                                                       \n",
            "                                                                 \n",
            " activation (Activation)     (None, 28, 28, 256)       0         \n",
            "                                                                 \n",
            " max_pooling2d_3 (MaxPooling  (None, 14, 14, 256)      0         \n",
            " 2D)                                                             \n",
            "                                                                 \n",
            " spatial_dropout2d_1 (Spatia  (None, 14, 14, 256)      0         \n",
            " lDropout2D)                                                     \n",
            "                                                                 \n",
            " batch_normalization_3 (Batc  (None, 14, 14, 256)      1024      \n",
            " hNormalization)                                                 \n",
            "                                                                 \n",
            " separable_conv2d_4 (Separab  (None, 14, 14, 256)      68096     \n",
            " leConv2D)                                                       \n",
            "                                                                 \n",
            " max_pooling2d_4 (MaxPooling  (None, 7, 7, 256)        0         \n",
            " 2D)                                                             \n",
            "                                                                 \n",
            " spatial_dropout2d_2 (Spatia  (None, 7, 7, 256)        0         \n",
            " lDropout2D)                                                     \n",
            "                                                                 \n",
            " batch_normalization_4 (Batc  (None, 7, 7, 256)        1024      \n",
            " hNormalization)                                                 \n",
            "                                                                 \n",
            " flatten (Flatten)           (None, 12544)             0         \n",
            "                                                                 \n",
            " dense (Dense)               (None, 128)               1605760   \n",
            "                                                                 \n",
            " dropout (Dropout)           (None, 128)               0         \n",
            "                                                                 \n",
            " batch_normalization_5 (Batc  (None, 128)              512       \n",
            " hNormalization)                                                 \n",
            "                                                                 \n",
            " dense_1 (Dense)             (None, 64)                8256      \n",
            "                                                                 \n",
            " dropout_1 (Dropout)         (None, 64)                0         \n",
            "                                                                 \n",
            " batch_normalization_6 (Batc  (None, 64)               256       \n",
            " hNormalization)                                                 \n",
            "                                                                 \n",
            " dense_2 (Dense)             (None, 64)                4160      \n",
            "                                                                 \n",
            " dropout_2 (Dropout)         (None, 64)                0         \n",
            "                                                                 \n",
            " batch_normalization_7 (Batc  (None, 64)               256       \n",
            " hNormalization)                                                 \n",
            "                                                                 \n",
            " dense_3 (Dense)             (None, 1)                 65        \n",
            "                                                                 \n",
            "=================================================================\n",
            "Total params: 1,751,708\n",
            "Trainable params: 1,749,532\n",
            "Non-trainable params: 2,176\n",
            "_________________________________________________________________\n",
            "Epoch 1/30\n",
            "128/128 [==============================] - 43s 229ms/step - loss: 0.2113 - mae: 0.3460 - val_loss: 0.1140 - val_mae: 0.3033\n",
            "Epoch 2/30\n",
            "128/128 [==============================] - 29s 224ms/step - loss: 0.1186 - mae: 0.2962 - val_loss: 0.1018 - val_mae: 0.2830\n",
            "Epoch 3/30\n",
            "128/128 [==============================] - 29s 227ms/step - loss: 0.1103 - mae: 0.2896 - val_loss: 0.1106 - val_mae: 0.2978\n",
            "Epoch 4/30\n",
            "128/128 [==============================] - 30s 233ms/step - loss: 0.1088 - mae: 0.2884 - val_loss: 0.1064 - val_mae: 0.2903\n",
            "Epoch 5/30\n",
            "128/128 [==============================] - 30s 231ms/step - loss: 0.1030 - mae: 0.2801 - val_loss: 0.0895 - val_mae: 0.2595\n",
            "Epoch 6/30\n",
            "128/128 [==============================] - 29s 230ms/step - loss: 0.0995 - mae: 0.2739 - val_loss: 0.0794 - val_mae: 0.2401\n",
            "Epoch 7/30\n",
            "128/128 [==============================] - 29s 230ms/step - loss: 0.0911 - mae: 0.2597 - val_loss: 0.0623 - val_mae: 0.2078\n",
            "Epoch 8/30\n",
            "128/128 [==============================] - 29s 230ms/step - loss: 0.0760 - mae: 0.2322 - val_loss: 0.0432 - val_mae: 0.1644\n",
            "Epoch 9/30\n",
            "128/128 [==============================] - 29s 230ms/step - loss: 0.0596 - mae: 0.2011 - val_loss: 0.0443 - val_mae: 0.1656\n",
            "Epoch 10/30\n",
            "128/128 [==============================] - 30s 231ms/step - loss: 0.0489 - mae: 0.1785 - val_loss: 0.0317 - val_mae: 0.1392\n",
            "Epoch 11/30\n",
            "128/128 [==============================] - 30s 231ms/step - loss: 0.0441 - mae: 0.1675 - val_loss: 0.0411 - val_mae: 0.1580\n",
            "Epoch 12/30\n",
            "128/128 [==============================] - 29s 230ms/step - loss: 0.0418 - mae: 0.1623 - val_loss: 0.0342 - val_mae: 0.1422\n",
            "Epoch 13/30\n",
            "128/128 [==============================] - 29s 231ms/step - loss: 0.0397 - mae: 0.1570 - val_loss: 0.0412 - val_mae: 0.1539\n",
            "Epoch 14/30\n",
            "128/128 [==============================] - 30s 231ms/step - loss: 0.0385 - mae: 0.1542 - val_loss: 0.0325 - val_mae: 0.1335\n",
            "Epoch 15/30\n",
            "128/128 [==============================] - 30s 238ms/step - loss: 0.0370 - mae: 0.1487 - val_loss: 0.0290 - val_mae: 0.1271\n",
            "Epoch 16/30\n",
            "128/128 [==============================] - 29s 230ms/step - loss: 0.0354 - mae: 0.1463 - val_loss: 0.0281 - val_mae: 0.1269\n",
            "Epoch 17/30\n",
            "128/128 [==============================] - 29s 231ms/step - loss: 0.0332 - mae: 0.1414 - val_loss: 0.0272 - val_mae: 0.1250\n",
            "Epoch 18/30\n",
            "128/128 [==============================] - 29s 230ms/step - loss: 0.0328 - mae: 0.1400 - val_loss: 0.0266 - val_mae: 0.1218\n",
            "Epoch 19/30\n",
            "128/128 [==============================] - 29s 230ms/step - loss: 0.0324 - mae: 0.1381 - val_loss: 0.0283 - val_mae: 0.1260\n",
            "Epoch 20/30\n",
            "128/128 [==============================] - 29s 230ms/step - loss: 0.0314 - mae: 0.1362 - val_loss: 0.0295 - val_mae: 0.1287\n",
            "Epoch 21/30\n",
            "128/128 [==============================] - 29s 230ms/step - loss: 0.0305 - mae: 0.1338 - val_loss: 0.0216 - val_mae: 0.1140\n",
            "Epoch 22/30\n",
            "128/128 [==============================] - 29s 229ms/step - loss: 0.0302 - mae: 0.1338 - val_loss: 0.0252 - val_mae: 0.1188\n",
            "Epoch 23/30\n",
            "128/128 [==============================] - 30s 231ms/step - loss: 0.0289 - mae: 0.1297 - val_loss: 0.0247 - val_mae: 0.1183\n",
            "Epoch 24/30\n",
            "128/128 [==============================] - 29s 229ms/step - loss: 0.0284 - mae: 0.1276 - val_loss: 0.0217 - val_mae: 0.1101\n",
            "Epoch 25/30\n",
            "128/128 [==============================] - 29s 230ms/step - loss: 0.0283 - mae: 0.1276 - val_loss: 0.0206 - val_mae: 0.1105\n",
            "Epoch 26/30\n",
            "128/128 [==============================] - 29s 229ms/step - loss: 0.0277 - mae: 0.1247 - val_loss: 0.0292 - val_mae: 0.1292\n",
            "Epoch 27/30\n",
            "128/128 [==============================] - 29s 230ms/step - loss: 0.0258 - mae: 0.1196 - val_loss: 0.0207 - val_mae: 0.1080\n",
            "Epoch 28/30\n",
            "128/128 [==============================] - 29s 230ms/step - loss: 0.0229 - mae: 0.1138 - val_loss: 0.0187 - val_mae: 0.1034\n",
            "Epoch 29/30\n",
            "128/128 [==============================] - 30s 232ms/step - loss: 0.0216 - mae: 0.1110 - val_loss: 0.0196 - val_mae: 0.1062\n",
            "Epoch 30/30\n",
            "128/128 [==============================] - 29s 229ms/step - loss: 0.0199 - mae: 0.1070 - val_loss: 0.0187 - val_mae: 0.1033\n"
          ]
        }
      ]
    },
    {
      "cell_type": "code",
      "source": [
        "# making predictions on the TEST data\n",
        "predictions_age_model = age_model.predict(X_test, verbose=2)\n",
        "\n",
        "print(predictions_age_model)\n",
        "\n",
        "# re-scaling the predictions to the range of \"ages\" as the outputs are in the range of [0,1]\n",
        "predictions_age_model_final = predictions_age_model*100\n",
        "\n",
        "# evaluating on validation data (re-scalling Y_labels back to the range of \"ages\", using the normalization factor)\n",
        "error = []\n",
        "for i in range(0,len(Y_valid)):\n",
        "  error.append(abs(np.subtract(predictions_age_model_final[i][0], Y_valid[i]*100)))\n",
        "\n",
        "print('MAE (validation) = %.8f' %(np.mean(error)))\n",
        "\n",
        "# printing some predictions (re-scaling back the values to the \"age\" range, using the normalization factor defined earlier)\n",
        "print('-----')\n",
        "for i in range(0,10):\n",
        "  print('predicted age = %.3f - Ground truth = %.3f' %(predictions_age_model_final[i], Y_valid[i]*100))\n",
        "\n",
        "if(True):\n",
        "  age_bias(predictions_age_model_final,Y_valid*100)\n",
        "\n",
        "  gender_bias(predictions_age_model_final,Y_valid*100,M_valid)\n",
        "\n",
        "  ethnicity_bias(predictions_age_model_final,Y_valid*100,M_valid)\n",
        "\n",
        "  face_expression_bias(predictions_age_model_final,Y_valid*100,M_valid)"
      ],
      "metadata": {
        "colab": {
          "base_uri": "https://localhost:8080/"
        },
        "id": "VKeDcEK0WENv",
        "outputId": "2a5f20c6-aa56-47fe-be44-a1b4dbba4827"
      },
      "execution_count": null,
      "outputs": [
        {
          "output_type": "stream",
          "name": "stdout",
          "text": [
            "62/62 - 3s - 3s/epoch - 46ms/step\n",
            "[[0.24452399]\n",
            " [0.347035  ]\n",
            " [0.22338569]\n",
            " ...\n",
            " [0.22747537]\n",
            " [0.24594331]\n",
            " [0.24858856]]\n",
            "MAE (validation) = 12.08346427\n",
            "-----\n",
            "predicted age = 24.452 - Ground truth = 26.231\n",
            "predicted age = 34.703 - Ground truth = 27.256\n",
            "predicted age = 22.339 - Ground truth = 23.143\n",
            "predicted age = 29.169 - Ground truth = 73.289\n",
            "predicted age = 24.875 - Ground truth = 20.143\n",
            "predicted age = 23.695 - Ground truth = 25.083\n",
            "predicted age = 33.632 - Ground truth = 34.769\n",
            "predicted age = 34.323 - Ground truth = 1.162\n",
            "predicted age = 28.940 - Ground truth = 4.846\n",
            "predicted age = 34.419 - Ground truth = 1.378\n",
            "=============================\n",
            "Age analysis:\n",
            "Size group 1 = 305, MAE = 16.001642\n",
            "Size group 2 = 841, MAE = 5.845563\n",
            "Size group 3 = 275, MAE = 20.823551\n",
            "Size group 4 = 61, MAE = 39.091770\n",
            "---------\n",
            "Age bias (Ba) =  17.42675526936849\n",
            "=============================\n",
            "Gender analysis:\n",
            "Size group female = 716, MAE = 10.425586\n",
            "Size group male = 766, MAE = 13.633126\n",
            "---------\n",
            "Gender bias (Bg) =  3.2075405\n",
            "=============================\n",
            "Ethnicity Analysis:\n",
            "Size group asian = 116, MAE = 10.311537\n",
            "Size group afroamerican = 50, MAE = 10.423759\n",
            "Size group caucasian = 1316, MAE = 12.302711\n",
            "---------\n",
            "Ethnicity bias (Be) =  1.3274497985839844\n",
            "=============================\n",
            "Face experession Analysis:\n",
            "Size group happy = 403, MAE = 10.609600\n",
            "Size group slightlyhappy = 476, MAE = 11.741312\n",
            "Size group neutral = 492, MAE = 12.643118\n",
            "Size group other = 111, MAE = 16.421144\n",
            "---------\n",
            "Face Expression bias (Bf) =  3.0560731887817383\n"
          ]
        }
      ]
    },
    {
      "cell_type": "code",
      "source": [],
      "metadata": {
        "id": "m5MUru99GjW4"
      },
      "execution_count": null,
      "outputs": []
    },
    {
      "cell_type": "code",
      "source": [
        "import matplotlib.pyplot as plt\n",
        "import plotly.graph_objects as go\n",
        "\n",
        "plt.clf()\n",
        "figure = go.Figure()\n",
        "figure.add_trace(go.Scatter(\n",
        "                    y=history.history['mae'],\n",
        "                    name='Train'))\n",
        "figure.add_trace(go.Scatter( y=history.history['val_mae'], name='Validation'))\n",
        "figure.update_layout(title='Train vs Val mean absolute error',xaxis_title='Epoch',yaxis_title='mae')\n",
        "figure.show()"
      ],
      "metadata": {
        "colab": {
          "base_uri": "https://localhost:8080/",
          "height": 559
        },
        "id": "s9DAmZWRaauA",
        "outputId": "2a56afe2-10e2-4958-c78b-c26adee5d764"
      },
      "execution_count": null,
      "outputs": [
        {
          "output_type": "display_data",
          "data": {
            "text/html": [
              "<html>\n",
              "<head><meta charset=\"utf-8\" /></head>\n",
              "<body>\n",
              "    <div>            <script src=\"https://cdnjs.cloudflare.com/ajax/libs/mathjax/2.7.5/MathJax.js?config=TeX-AMS-MML_SVG\"></script><script type=\"text/javascript\">if (window.MathJax) {MathJax.Hub.Config({SVG: {font: \"STIX-Web\"}});}</script>                <script type=\"text/javascript\">window.PlotlyConfig = {MathJaxConfig: 'local'};</script>\n",
              "        <script src=\"https://cdn.plot.ly/plotly-2.8.3.min.js\"></script>                <div id=\"03da31c2-6748-448c-bf45-d5e15e497f8a\" class=\"plotly-graph-div\" style=\"height:525px; width:100%;\"></div>            <script type=\"text/javascript\">                                    window.PLOTLYENV=window.PLOTLYENV || {};                                    if (document.getElementById(\"03da31c2-6748-448c-bf45-d5e15e497f8a\")) {                    Plotly.newPlot(                        \"03da31c2-6748-448c-bf45-d5e15e497f8a\",                        [{\"name\":\"Train\",\"y\":[0.3460286259651184,0.2961639165878296,0.28960856795310974,0.2884461581707001,0.2801024317741394,0.273887038230896,0.25967419147491455,0.23223142325878143,0.20114628970623016,0.17854012548923492,0.16748327016830444,0.1622992306947708,0.1569794863462448,0.15424807369709015,0.14865437150001526,0.14627467095851898,0.14135603606700897,0.14003854990005493,0.13807618618011475,0.13623258471488953,0.1337861716747284,0.13376681506633759,0.12968800961971283,0.12764757871627808,0.1275639832019806,0.12474659830331802,0.11958929896354675,0.11378312110900879,0.11096842586994171,0.10703185200691223],\"type\":\"scatter\"},{\"name\":\"Validation\",\"y\":[0.30325448513031006,0.28298327326774597,0.2978120744228363,0.2903309166431427,0.25951436161994934,0.24010814726352692,0.2077978551387787,0.16436496376991272,0.16559477150440216,0.13921275734901428,0.15798978507518768,0.14221732318401337,0.15394283831119537,0.13346152007579803,0.12713311612606049,0.12688377499580383,0.12504085898399353,0.12182804942131042,0.1260310411453247,0.12871094048023224,0.11400308459997177,0.11877725273370743,0.11832837015390396,0.11010679602622986,0.11049944162368774,0.12918369472026825,0.10796067118644714,0.10337827354669571,0.10621438920497894,0.10326995700597763],\"type\":\"scatter\"}],                        {\"template\":{\"data\":{\"bar\":[{\"error_x\":{\"color\":\"#2a3f5f\"},\"error_y\":{\"color\":\"#2a3f5f\"},\"marker\":{\"line\":{\"color\":\"#E5ECF6\",\"width\":0.5},\"pattern\":{\"fillmode\":\"overlay\",\"size\":10,\"solidity\":0.2}},\"type\":\"bar\"}],\"barpolar\":[{\"marker\":{\"line\":{\"color\":\"#E5ECF6\",\"width\":0.5},\"pattern\":{\"fillmode\":\"overlay\",\"size\":10,\"solidity\":0.2}},\"type\":\"barpolar\"}],\"carpet\":[{\"aaxis\":{\"endlinecolor\":\"#2a3f5f\",\"gridcolor\":\"white\",\"linecolor\":\"white\",\"minorgridcolor\":\"white\",\"startlinecolor\":\"#2a3f5f\"},\"baxis\":{\"endlinecolor\":\"#2a3f5f\",\"gridcolor\":\"white\",\"linecolor\":\"white\",\"minorgridcolor\":\"white\",\"startlinecolor\":\"#2a3f5f\"},\"type\":\"carpet\"}],\"choropleth\":[{\"colorbar\":{\"outlinewidth\":0,\"ticks\":\"\"},\"type\":\"choropleth\"}],\"contour\":[{\"colorbar\":{\"outlinewidth\":0,\"ticks\":\"\"},\"colorscale\":[[0.0,\"#0d0887\"],[0.1111111111111111,\"#46039f\"],[0.2222222222222222,\"#7201a8\"],[0.3333333333333333,\"#9c179e\"],[0.4444444444444444,\"#bd3786\"],[0.5555555555555556,\"#d8576b\"],[0.6666666666666666,\"#ed7953\"],[0.7777777777777778,\"#fb9f3a\"],[0.8888888888888888,\"#fdca26\"],[1.0,\"#f0f921\"]],\"type\":\"contour\"}],\"contourcarpet\":[{\"colorbar\":{\"outlinewidth\":0,\"ticks\":\"\"},\"type\":\"contourcarpet\"}],\"heatmap\":[{\"colorbar\":{\"outlinewidth\":0,\"ticks\":\"\"},\"colorscale\":[[0.0,\"#0d0887\"],[0.1111111111111111,\"#46039f\"],[0.2222222222222222,\"#7201a8\"],[0.3333333333333333,\"#9c179e\"],[0.4444444444444444,\"#bd3786\"],[0.5555555555555556,\"#d8576b\"],[0.6666666666666666,\"#ed7953\"],[0.7777777777777778,\"#fb9f3a\"],[0.8888888888888888,\"#fdca26\"],[1.0,\"#f0f921\"]],\"type\":\"heatmap\"}],\"heatmapgl\":[{\"colorbar\":{\"outlinewidth\":0,\"ticks\":\"\"},\"colorscale\":[[0.0,\"#0d0887\"],[0.1111111111111111,\"#46039f\"],[0.2222222222222222,\"#7201a8\"],[0.3333333333333333,\"#9c179e\"],[0.4444444444444444,\"#bd3786\"],[0.5555555555555556,\"#d8576b\"],[0.6666666666666666,\"#ed7953\"],[0.7777777777777778,\"#fb9f3a\"],[0.8888888888888888,\"#fdca26\"],[1.0,\"#f0f921\"]],\"type\":\"heatmapgl\"}],\"histogram\":[{\"marker\":{\"pattern\":{\"fillmode\":\"overlay\",\"size\":10,\"solidity\":0.2}},\"type\":\"histogram\"}],\"histogram2d\":[{\"colorbar\":{\"outlinewidth\":0,\"ticks\":\"\"},\"colorscale\":[[0.0,\"#0d0887\"],[0.1111111111111111,\"#46039f\"],[0.2222222222222222,\"#7201a8\"],[0.3333333333333333,\"#9c179e\"],[0.4444444444444444,\"#bd3786\"],[0.5555555555555556,\"#d8576b\"],[0.6666666666666666,\"#ed7953\"],[0.7777777777777778,\"#fb9f3a\"],[0.8888888888888888,\"#fdca26\"],[1.0,\"#f0f921\"]],\"type\":\"histogram2d\"}],\"histogram2dcontour\":[{\"colorbar\":{\"outlinewidth\":0,\"ticks\":\"\"},\"colorscale\":[[0.0,\"#0d0887\"],[0.1111111111111111,\"#46039f\"],[0.2222222222222222,\"#7201a8\"],[0.3333333333333333,\"#9c179e\"],[0.4444444444444444,\"#bd3786\"],[0.5555555555555556,\"#d8576b\"],[0.6666666666666666,\"#ed7953\"],[0.7777777777777778,\"#fb9f3a\"],[0.8888888888888888,\"#fdca26\"],[1.0,\"#f0f921\"]],\"type\":\"histogram2dcontour\"}],\"mesh3d\":[{\"colorbar\":{\"outlinewidth\":0,\"ticks\":\"\"},\"type\":\"mesh3d\"}],\"parcoords\":[{\"line\":{\"colorbar\":{\"outlinewidth\":0,\"ticks\":\"\"}},\"type\":\"parcoords\"}],\"pie\":[{\"automargin\":true,\"type\":\"pie\"}],\"scatter\":[{\"marker\":{\"colorbar\":{\"outlinewidth\":0,\"ticks\":\"\"}},\"type\":\"scatter\"}],\"scatter3d\":[{\"line\":{\"colorbar\":{\"outlinewidth\":0,\"ticks\":\"\"}},\"marker\":{\"colorbar\":{\"outlinewidth\":0,\"ticks\":\"\"}},\"type\":\"scatter3d\"}],\"scattercarpet\":[{\"marker\":{\"colorbar\":{\"outlinewidth\":0,\"ticks\":\"\"}},\"type\":\"scattercarpet\"}],\"scattergeo\":[{\"marker\":{\"colorbar\":{\"outlinewidth\":0,\"ticks\":\"\"}},\"type\":\"scattergeo\"}],\"scattergl\":[{\"marker\":{\"colorbar\":{\"outlinewidth\":0,\"ticks\":\"\"}},\"type\":\"scattergl\"}],\"scattermapbox\":[{\"marker\":{\"colorbar\":{\"outlinewidth\":0,\"ticks\":\"\"}},\"type\":\"scattermapbox\"}],\"scatterpolar\":[{\"marker\":{\"colorbar\":{\"outlinewidth\":0,\"ticks\":\"\"}},\"type\":\"scatterpolar\"}],\"scatterpolargl\":[{\"marker\":{\"colorbar\":{\"outlinewidth\":0,\"ticks\":\"\"}},\"type\":\"scatterpolargl\"}],\"scatterternary\":[{\"marker\":{\"colorbar\":{\"outlinewidth\":0,\"ticks\":\"\"}},\"type\":\"scatterternary\"}],\"surface\":[{\"colorbar\":{\"outlinewidth\":0,\"ticks\":\"\"},\"colorscale\":[[0.0,\"#0d0887\"],[0.1111111111111111,\"#46039f\"],[0.2222222222222222,\"#7201a8\"],[0.3333333333333333,\"#9c179e\"],[0.4444444444444444,\"#bd3786\"],[0.5555555555555556,\"#d8576b\"],[0.6666666666666666,\"#ed7953\"],[0.7777777777777778,\"#fb9f3a\"],[0.8888888888888888,\"#fdca26\"],[1.0,\"#f0f921\"]],\"type\":\"surface\"}],\"table\":[{\"cells\":{\"fill\":{\"color\":\"#EBF0F8\"},\"line\":{\"color\":\"white\"}},\"header\":{\"fill\":{\"color\":\"#C8D4E3\"},\"line\":{\"color\":\"white\"}},\"type\":\"table\"}]},\"layout\":{\"annotationdefaults\":{\"arrowcolor\":\"#2a3f5f\",\"arrowhead\":0,\"arrowwidth\":1},\"autotypenumbers\":\"strict\",\"coloraxis\":{\"colorbar\":{\"outlinewidth\":0,\"ticks\":\"\"}},\"colorscale\":{\"diverging\":[[0,\"#8e0152\"],[0.1,\"#c51b7d\"],[0.2,\"#de77ae\"],[0.3,\"#f1b6da\"],[0.4,\"#fde0ef\"],[0.5,\"#f7f7f7\"],[0.6,\"#e6f5d0\"],[0.7,\"#b8e186\"],[0.8,\"#7fbc41\"],[0.9,\"#4d9221\"],[1,\"#276419\"]],\"sequential\":[[0.0,\"#0d0887\"],[0.1111111111111111,\"#46039f\"],[0.2222222222222222,\"#7201a8\"],[0.3333333333333333,\"#9c179e\"],[0.4444444444444444,\"#bd3786\"],[0.5555555555555556,\"#d8576b\"],[0.6666666666666666,\"#ed7953\"],[0.7777777777777778,\"#fb9f3a\"],[0.8888888888888888,\"#fdca26\"],[1.0,\"#f0f921\"]],\"sequentialminus\":[[0.0,\"#0d0887\"],[0.1111111111111111,\"#46039f\"],[0.2222222222222222,\"#7201a8\"],[0.3333333333333333,\"#9c179e\"],[0.4444444444444444,\"#bd3786\"],[0.5555555555555556,\"#d8576b\"],[0.6666666666666666,\"#ed7953\"],[0.7777777777777778,\"#fb9f3a\"],[0.8888888888888888,\"#fdca26\"],[1.0,\"#f0f921\"]]},\"colorway\":[\"#636efa\",\"#EF553B\",\"#00cc96\",\"#ab63fa\",\"#FFA15A\",\"#19d3f3\",\"#FF6692\",\"#B6E880\",\"#FF97FF\",\"#FECB52\"],\"font\":{\"color\":\"#2a3f5f\"},\"geo\":{\"bgcolor\":\"white\",\"lakecolor\":\"white\",\"landcolor\":\"#E5ECF6\",\"showlakes\":true,\"showland\":true,\"subunitcolor\":\"white\"},\"hoverlabel\":{\"align\":\"left\"},\"hovermode\":\"closest\",\"mapbox\":{\"style\":\"light\"},\"paper_bgcolor\":\"white\",\"plot_bgcolor\":\"#E5ECF6\",\"polar\":{\"angularaxis\":{\"gridcolor\":\"white\",\"linecolor\":\"white\",\"ticks\":\"\"},\"bgcolor\":\"#E5ECF6\",\"radialaxis\":{\"gridcolor\":\"white\",\"linecolor\":\"white\",\"ticks\":\"\"}},\"scene\":{\"xaxis\":{\"backgroundcolor\":\"#E5ECF6\",\"gridcolor\":\"white\",\"gridwidth\":2,\"linecolor\":\"white\",\"showbackground\":true,\"ticks\":\"\",\"zerolinecolor\":\"white\"},\"yaxis\":{\"backgroundcolor\":\"#E5ECF6\",\"gridcolor\":\"white\",\"gridwidth\":2,\"linecolor\":\"white\",\"showbackground\":true,\"ticks\":\"\",\"zerolinecolor\":\"white\"},\"zaxis\":{\"backgroundcolor\":\"#E5ECF6\",\"gridcolor\":\"white\",\"gridwidth\":2,\"linecolor\":\"white\",\"showbackground\":true,\"ticks\":\"\",\"zerolinecolor\":\"white\"}},\"shapedefaults\":{\"line\":{\"color\":\"#2a3f5f\"}},\"ternary\":{\"aaxis\":{\"gridcolor\":\"white\",\"linecolor\":\"white\",\"ticks\":\"\"},\"baxis\":{\"gridcolor\":\"white\",\"linecolor\":\"white\",\"ticks\":\"\"},\"bgcolor\":\"#E5ECF6\",\"caxis\":{\"gridcolor\":\"white\",\"linecolor\":\"white\",\"ticks\":\"\"}},\"title\":{\"x\":0.05},\"xaxis\":{\"automargin\":true,\"gridcolor\":\"white\",\"linecolor\":\"white\",\"ticks\":\"\",\"title\":{\"standoff\":15},\"zerolinecolor\":\"white\",\"zerolinewidth\":2},\"yaxis\":{\"automargin\":true,\"gridcolor\":\"white\",\"linecolor\":\"white\",\"ticks\":\"\",\"title\":{\"standoff\":15},\"zerolinecolor\":\"white\",\"zerolinewidth\":2}}},\"title\":{\"text\":\"Train vs Val mean absolute error\"},\"xaxis\":{\"title\":{\"text\":\"Epoch\"}},\"yaxis\":{\"title\":{\"text\":\"mae\"}}},                        {\"responsive\": true}                    ).then(function(){\n",
              "                            \n",
              "var gd = document.getElementById('03da31c2-6748-448c-bf45-d5e15e497f8a');\n",
              "var x = new MutationObserver(function (mutations, observer) {{\n",
              "        var display = window.getComputedStyle(gd).display;\n",
              "        if (!display || display === 'none') {{\n",
              "            console.log([gd, 'removed!']);\n",
              "            Plotly.purge(gd);\n",
              "            observer.disconnect();\n",
              "        }}\n",
              "}});\n",
              "\n",
              "// Listen for the removal of the full notebook cells\n",
              "var notebookContainer = gd.closest('#notebook-container');\n",
              "if (notebookContainer) {{\n",
              "    x.observe(notebookContainer, {childList: true});\n",
              "}}\n",
              "\n",
              "// Listen for the clearing of the current output cell\n",
              "var outputEl = gd.closest('.output');\n",
              "if (outputEl) {{\n",
              "    x.observe(outputEl, {childList: true});\n",
              "}}\n",
              "\n",
              "                        })                };                            </script>        </div>\n",
              "</body>\n",
              "</html>"
            ]
          },
          "metadata": {}
        },
        {
          "output_type": "display_data",
          "data": {
            "text/plain": [
              "<Figure size 432x288 with 0 Axes>"
            ]
          },
          "metadata": {}
        }
      ]
    }
  ],
  "metadata": {
    "accelerator": "GPU",
    "colab": {
      "provenance": [],
      "toc_visible": true
    },
    "kernelspec": {
      "display_name": "Python 3",
      "name": "python3"
    }
  },
  "nbformat": 4,
  "nbformat_minor": 0
}