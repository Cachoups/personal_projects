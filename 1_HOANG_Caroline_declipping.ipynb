{
  "cells": [
    {
      "cell_type": "markdown",
      "id": "4acc3d39",
      "metadata": {
        "id": "4acc3d39"
      },
      "source": [
        "# Project"
      ]
    },
    {
      "cell_type": "markdown",
      "id": "58f61a7b",
      "metadata": {
        "id": "58f61a7b"
      },
      "source": [
        "### HOANG Caroline\n",
        "\n",
        "\n",
        "The goal of this project is to declip a clipped audio based on\n",
        "https://hal.science/hal-01002998/document"
      ]
    },
    {
      "cell_type": "code",
      "execution_count": null,
      "id": "f7f88142",
      "metadata": {
        "id": "f7f88142"
      },
      "outputs": [],
      "source": [
        "# setup\n",
        "\n",
        "from scipy import signal\n",
        "from scipy.io import wavfile\n",
        "import matplotlib.pyplot as plt\n",
        "import wave\n",
        "import numpy as np\n",
        "import sys\n",
        "import struct\n",
        "import scipy.signal as ss"
      ]
    },
    {
      "cell_type": "markdown",
      "id": "afed40fd",
      "metadata": {
        "id": "afed40fd"
      },
      "source": [
        "## Clipping\n",
        "\n",
        "Let's have a look on the original audio.\n",
        "\n",
        "The music audio is provided here : http://hebergement.universite-paris-saclay.fr/mkowalski/AI/data/music.wav"
      ]
    },
    {
      "cell_type": "code",
      "execution_count": null,
      "id": "97072138",
      "metadata": {
        "colab": {
          "base_uri": "https://localhost:8080/",
          "height": 331
        },
        "id": "97072138",
        "outputId": "b3dc5f72-27f8-477e-95a0-894869e92416"
      },
      "outputs": [
        {
          "output_type": "stream",
          "name": "stdout",
          "text": [
            "frate = 16000\n",
            "duration of the sound : 8.7500625 sec\n"
          ]
        },
        {
          "output_type": "display_data",
          "data": {
            "text/plain": [
              "<Figure size 432x288 with 1 Axes>"
            ],
            "image/png": "[encoded data removed]"
          },
          "metadata": {
            "needs_background": "light"
          }
        }
      ],
      "source": [
        "# read the clean sound file\n",
        "frate,sig = wavfile.read(\"music.wav\")\n",
        "print(\"frate =\",frate)\n",
        "# signal duration\n",
        "duration = sig.shape[0]/frate\n",
        "print(\"duration of the sound :\",duration,\"sec\")\n",
        "# get abscisse time corresponding to the read signal\n",
        "timerange = np.linspace(0,duration , sig.shape[0])\n",
        "plt.plot(timerange,sig/2**15, 'r')\n",
        "plt.xlabel(\"time in sec\")\n",
        "plt.ylabel(\"signal magnetude\")\n",
        "plt.title(\"signal over time\")\n",
        "plt.show()"
      ]
    },
    {
      "cell_type": "markdown",
      "source": [
        "We define a function that similates the clipped audio in different level of clipping"
      ],
      "metadata": {
        "id": "1yyWnaA-t8CZ"
      },
      "id": "1yyWnaA-t8CZ"
    },
    {
      "cell_type": "code",
      "execution_count": null,
      "id": "e5b0dd8a",
      "metadata": {
        "id": "e5b0dd8a"
      },
      "outputs": [],
      "source": [
        "def clipping(sig, rate):\n",
        "    new_sig = sig.copy()\n",
        "    new_sig = new_sig.astype(int)\n",
        "    new_sig[(abs(new_sig) >= rate * max(abs(new_sig))) & (new_sig >= 0)] = rate * max(abs(new_sig))\n",
        "    new_sig[(abs(new_sig) >= rate * max(abs(new_sig))) & (new_sig < 0)] = -rate * max(abs(new_sig))\n",
        "    return new_sig"
      ]
    },
    {
      "cell_type": "markdown",
      "source": [
        "We define the SNR function between the clipped and the estimated audio only on $\\theta^{clip}$"
      ],
      "metadata": {
        "id": "OqLVMHbMu-8A"
      },
      "id": "OqLVMHbMu-8A"
    },
    {
      "cell_type": "code",
      "source": [
        "# y is our clipped signal\n",
        "# y_estimated is our estimated signal\n",
        "# M_c is the list of index of the clipped samples\n",
        "\n",
        "def snr(y, y_estimated, M_c) :\n",
        "  return 20*np.log10(np.linalg.norm(y[M_c],1)/np.linalg.norm(y[M_c]-y_estimated[M_c],1))"
      ],
      "metadata": {
        "id": "LnbNulDXu9rk"
      },
      "id": "LnbNulDXu9rk",
      "execution_count": null,
      "outputs": []
    },
    {
      "cell_type": "markdown",
      "id": "51e8bbfb",
      "metadata": {
        "id": "51e8bbfb"
      },
      "source": [
        "## Algorithm\n",
        "\n",
        "As written in the article, we consider a hann window with 1024 of samples length\n",
        "\n",
        "As applying an STFT and a ISTFT isn't the same length depending of our samples length and time shift we will perform both, clip it and then try to find the reliable signals and the clipped samples in index and its value.\n",
        "\n",
        "We will take the level of clip at 0.2"
      ]
    },
    {
      "cell_type": "code",
      "execution_count": null,
      "id": "ab848587",
      "metadata": {
        "id": "ab848587"
      },
      "outputs": [],
      "source": [
        "M = 1024 # length for the window\n",
        "window_hann = ss.windows.hann(M = M, sym=True) # define our hann window\n",
        "\n",
        "z = ss.stft(sig, window=window_hann, nperseg=M, noverlap = M//2)[2]\n",
        "sig = ss.istft(z, window=window_hann, nperseg=M, noverlap = M//2)[1]\n",
        "\n",
        "# init\n",
        "clipped = clipping(sig, 0.2)# clipped audio : y\n",
        "\n",
        "reliable_signal_index = np.where(abs(clipped) < 1*max(abs(clipped))) # get index of reliable samples of the observed signal : M^{r}\n",
        "reliable_signal = clipped[reliable_signal_index] # reliable samples of the observed signal : y^{r}\n",
        "\n",
        "clipped_sample_index = np.where(abs(clipped) >= 1*max(abs(clipped))) # get index of clipped samples of the observed signal : M^{c}\n",
        "clipped_sample = clipped[clipped_sample_index] # \\theta^{clip}\n",
        "\n",
        "T = len(clipped) # length observed signal : T"
      ]
    },
    {
      "cell_type": "code",
      "source": [
        "plt.plot(clipped/2**15, 'r') # plot of the clipped audio"
      ],
      "metadata": {
        "colab": {
          "base_uri": "https://localhost:8080/",
          "height": 283
        },
        "id": "dQ9kSQdWkQP2",
        "outputId": "06663217-d4f8-4a6f-8a2d-f56acccfe2cf"
      },
      "id": "dQ9kSQdWkQP2",
      "execution_count": null,
      "outputs": [
        {
          "output_type": "execute_result",
          "data": {
            "text/plain": [
              "[<matplotlib.lines.Line2D at 0x7f7566f1fb50>]"
            ]
          },
          "metadata": {},
          "execution_count": 166
        },
        {
          "output_type": "display_data",
          "data": {
            "text/plain": [
              "<Figure size 432x288 with 1 Axes>"
            ],
            "image/png": "[encoded data removed]"
          },
          "metadata": {
            "needs_background": "light"
          }
        }
      ]
    },
    {
      "cell_type": "markdown",
      "source": [
        "### Get $M^r$ and $M^r$ matrices\n",
        "\n",
        "In the article we need the matrices $M^r$, $M^c$ and their respective transpose matrix. However creating the matrix itself is expensive as the dimension depends of the $N$ and $T$. That's why in Python we will consider $M^r$ (resp $M^c$) a list of index from the reliable signals (resp. from the clipped samples). To perform it transpose, we create a function called \"matrix_identity_trans\" that computes the transpose matrix with a vector. We create a vector of dimension $T$ with 0 and we fill values for the indexes present in the list $M^r$ (resp. $M^c$)"
      ],
      "metadata": {
        "id": "HcyQ8w0Pvl9m"
      },
      "id": "HcyQ8w0Pvl9m"
    },
    {
      "cell_type": "code",
      "source": [
        "# Compute product transpose M with a vector\n",
        "\n",
        "# index is a list of indexes\n",
        "# vector is the list of values corresponding to index\n",
        "# T is the length of the signal\n",
        "def matrix_identity_trans(index, vector, T) :\n",
        "  res = np.array([0]*T, dtype = np.float32)\n",
        "  for i in range(len(vector)):\n",
        "      res[index[i]] = vector[i]\n",
        "  return res"
      ],
      "metadata": {
        "id": "fFS8z8L0xVGk"
      },
      "id": "fFS8z8L0xVGk",
      "execution_count": null,
      "outputs": []
    },
    {
      "cell_type": "markdown",
      "source": [
        "### h function\n",
        "\n",
        "In the article, it's introduced the function $h^2$ to compute a L2 norm. But it's also used in the algorithm itself when we look at the use of the notation $[x]_+$. We implement the function $h$ itself corresponding to:\n",
        "$$\n",
        "R \\,\\to\\, R_- \\\\\n",
        "h : z \\,\\to\\,\n",
        "\\begin{equation}\n",
        "    \\begin{cases}\n",
        "      z \\text{  ,  if z < 0}\\\\\n",
        "      0 \\\\\n",
        "    \\end{cases}\\,\n",
        "\\end{equation}\n",
        "$$\n",
        "\n"
      ],
      "metadata": {
        "id": "THqflAYBxXYO"
      },
      "id": "THqflAYBxXYO"
    },
    {
      "cell_type": "code",
      "source": [
        "def h_squared(x):\n",
        "  if (x < 0) :\n",
        "    return x\n",
        "  else:\n",
        "    return 0 # We penalize when the estimated value is still greater the clipped value"
      ],
      "metadata": {
        "id": "paV0O7OrhylK"
      },
      "id": "paV0O7OrhylK",
      "execution_count": null,
      "outputs": []
    },
    {
      "cell_type": "markdown",
      "source": [
        "### Squared hinge function\n",
        "Depending of the sign of the clipped value for each k, $\\theta^{clip}_k$, let $x_k$ be the estimated value :\n",
        "$$\n",
        "z_k =\n",
        "\\begin{equation}\n",
        "    \\begin{cases}\n",
        "      \\theta^{clip}_k - x_k \\text{  , if  } \\theta^{clip}_k  < 0\\\\\n",
        "      x_k -\\theta^{clip}_k\\\\\n",
        "    \\end{cases}\\,\n",
        "\\end{equation}\n",
        "$$\n",
        "We then compute $h(z)$. The norm 2 squared associated is $\\sum_z h^2(z)$."
      ],
      "metadata": {
        "id": "wYFQwYfIOetS"
      },
      "id": "wYFQwYfIOetS"
    },
    {
      "cell_type": "code",
      "source": [
        "from math import sqrt\n",
        "# Squared hinge squared\n",
        "def square_hinge(theta_clip, x, norm= True) :\n",
        "  res = theta_clip.copy()\n",
        "  res = res.astype(np.float32)\n",
        "  for i in range(len(theta_clip)):\n",
        "    value = theta_clip[i]\n",
        "    if value < 0 :\n",
        "      res[i] = h_squared(value - x[i])  # z = \\theta^{clip} - x\n",
        "      if norm == True:\n",
        "        res[i] = res[i]**2\n",
        "    else :\n",
        "      res[i] = h_squared(x[i] - value)  # z = x - \\theta^{clip}\n",
        "      if norm == True:\n",
        "        res[i] = res[i]**2\n",
        "  if norm == True:\n",
        "    res = sqrt(sum(res))\n",
        "  return res\n"
      ],
      "metadata": {
        "id": "4sMH_TC0zxIR"
      },
      "id": "4sMH_TC0zxIR",
      "execution_count": null,
      "outputs": []
    },
    {
      "cell_type": "markdown",
      "source": [
        "We perform the algorithm define in the article.\n",
        "\n",
        "$\\phi^*$ corresponds to applying STFT and $\\phi$ corresponds to applying ISTFT\n",
        "\n",
        "We set our initial value:\n",
        "- $\\alpha_0 = \\phi^*y$ where y is our clipped signal\n",
        "- $z_0 = \\alpha_0 \\in C^N$\n",
        "- $k = 1$ as the start of iteration\n",
        "- $y_{estimated_0}= \\phi z_0$ is the estimated signal\n",
        "\n",
        "We perform the following computation loop until convergence :\n",
        "1.  $g_1 = -\\phi^*{M^r}^{T}(y_r - M^r \\phi z_{k-1})$ where $y_r$ is the reliable signal\n",
        "2.  $g_1 = -\\phi^*{M^c}^{T}[\\theta^{clip}- M^c \\phi z_{k-1})]_+$\n",
        "3.  $\\alpha_k = S_{\\lambda/\\delta}(z_{k-1}- \\frac{1}{\\delta}(g1 + g2) )$ where $S$ is a social sparcity operator (here we will take the Lasso)\n",
        "4.  $z_{k} = \\alpha_{k} + \\gamma(\\alpha_{k} - \\alpha_{k-1})$\n",
        "5.  $k = k + 1$\n",
        "\n",
        "We want to minimize : $\\frac{1}{2}|| y_r - M^r \\phi \\alpha ||_2^2 + \\frac{1}{2}[ \\theta^{clip} - M^c \\phi \\alpha]_+^2$ (1)\n",
        "\n",
        "We keep doing the loop as long as :\n",
        "- the new value of equation (1) is still smaller than the old one due to the convexity of the problem\n",
        "\n",
        "and respecting the conditions (s.t)\n",
        "- $|M^c  \\phi \\alpha| \\leq |\\theta^{clip}|$\n",
        "- $|| y_r - M^r \\phi \\alpha ||_2^2 \\leq \\epsilon $"
      ],
      "metadata": {
        "id": "V4EZ9fqPSsDS"
      },
      "id": "V4EZ9fqPSsDS"
    },
    {
      "cell_type": "code",
      "execution_count": null,
      "id": "c6e62250",
      "metadata": {
        "id": "c6e62250"
      },
      "outputs": [],
      "source": [
        "def declipping(clipped, window, y_r, theta_clip,  M_r, M_c, lb, gamma, M, N):\n",
        "\n",
        "  ## INIT\n",
        "\n",
        "  k = 1 # start iteration\n",
        "  T = len(clipped) # length of the observed signal\n",
        "\n",
        "  alpha_next = ss.stft(clipped, window=window, nperseg=M, noverlap = N)[2] # initiate alpha_0\n",
        "  alpha_current = alpha_next\n",
        "\n",
        "  z_next = alpha_next # z_0\n",
        "  z_current= z_next.copy()\n",
        "\n",
        "  phi_z = ss.istft(z_next, window=window, nperseg=M, noverlap = N)[1] # phi z\n",
        "\n",
        "  phi_alpha = ss.istft(z_next, window=window, nperseg=M, noverlap = N)[1]  # phi alpha\n",
        "\n",
        "  error = np.linalg.norm((y_r - phi_alpha[M_r])/2**15,2)**2 # s.t n°2\n",
        "\n",
        "  optim_new = 1/2*np.linalg.norm( y_r - phi_alpha[M_r] ,2)**2 + 1/2*square_hinge(theta_clip, phi_alpha[M_c])**2 # compute equation (1)\n",
        "  optim_old = 2**31-1\n",
        "\n",
        "  while (k<=2) or (optim_new <= optim_old) : # We force 2 iterations as for the first one the old optim is the smallest and correspond to the clipped one\n",
        "\n",
        "    # Compute g_1 and g_2\n",
        "    g1 = -ss.stft(matrix_identity_trans(M_r, y_r - phi_z[M_r], T), window=window, nperseg=M, noverlap = N)[2] #g_1\n",
        "    g2 = -ss.stft(matrix_identity_trans(M_c, square_hinge(theta_clip , phi_z[M_c], norm=False), T), window=window, nperseg=M, noverlap = N)[2] #g_2\n",
        "\n",
        "    # Compute delta\n",
        "    a = ss.istft(alpha_next, window=window, nperseg=M, noverlap = N)[1]\n",
        "    b = ss.stft(a , window=window, nperseg=M, noverlap = N)[2]\n",
        "    y = ss.istft(b, window=window, nperseg=M, noverlap = N)[1]\n",
        "    delta = np.linalg.norm(y)/np.linalg.norm(a) # \\delta\n",
        "\n",
        "    # Update alpha\n",
        "    alpha_current = alpha_next.copy()\n",
        "    alpha_next=  z.copy() # We copy so the dtype is complex values\n",
        "\n",
        "    for i in range(len(alpha_next[0])):\n",
        "        for j in range(len(alpha_next[1])):\n",
        "            scalar = 1-(lb/abs(z[i,j] - (g1[i,j] + g2[i,j])/delta))\n",
        "            alpha_next[i,j] =  (z[i,j] - (g1[i,j] + g2[i,j])/delta) * max(scalar, 0)\n",
        "\n",
        "    z_current = z_next.copy()\n",
        "    z_next = alpha_next + gamma*(alpha_next - alpha_current) # z_{k}\n",
        "\n",
        "    phi_z = ss.istft(z_next, window=window, nperseg=M, noverlap = N)[1]  # new phi z\n",
        "    phi_alpha = ss.istft(alpha_next, window=window, nperseg=M, noverlap = N)[1]  # new phi alpha\n",
        "    error = np.linalg.norm((y_r - phi_alpha[M_r])/2**15,2)**2 # new error\n",
        "\n",
        "    optim_old = optim_new\n",
        "    optim_new = 1/2*np.linalg.norm( y_r - phi_alpha[M_r] ,2)**2 + 1/2*square_hinge(theta_clip, phi_alpha[M_c])**2\n",
        "\n",
        "    k += 1\n",
        "\n",
        "    if (k % 500 == 499):\n",
        "      lb = lb/10\n",
        "\n",
        "    print(\"iteration : \",k, \"error : \", error)\n",
        "    print(\"snr : \",snr(clipped, phi_z, M_c))\n",
        "    print(\"optim : \", optim_new)\n",
        "    print('__________________')\n",
        "  print(\"The value is taken is from iteration \", k-1)\n",
        "  return z_current"
      ]
    },
    {
      "cell_type": "code",
      "source": [
        "z_estimated = declipping(clipped, window_hann, reliable_signal, clipped_sample, reliable_signal_index[0], clipped_sample_index[0], 10**(-3), 0.9, M,None)"
      ],
      "metadata": {
        "colab": {
          "base_uri": "https://localhost:8080/"
        },
        "id": "DV5ma49knce8",
        "outputId": "5c466b81-c00b-4d01-e590-78a5a50d93db"
      },
      "id": "DV5ma49knce8",
      "execution_count": null,
      "outputs": [
        {
          "output_type": "stream",
          "name": "stdout",
          "text": [
            "iteration :  2 error :  4.001806559423636e-05\n",
            "snr :  -2.733675877189871\n",
            "optim :  21484.53645375859\n",
            "__________________\n",
            "iteration :  3 error :  3.053429870070717e-05\n",
            "snr :  2.841578223991495\n",
            "optim :  16393.391146126298\n",
            "__________________\n",
            "iteration :  4 error :  0.00035874405557189136\n",
            "snr :  2.841239674525029\n",
            "optim :  192599.40473889714\n",
            "__________________\n",
            "The value is taken is from iteration  3\n"
          ]
        }
      ]
    },
    {
      "cell_type": "code",
      "source": [
        "y_estimated = ss.istft(z_estimated, window=window_hann, nperseg=M, noverlap = M//2)[1][:T]"
      ],
      "metadata": {
        "id": "NemxgP7M3qNT"
      },
      "id": "NemxgP7M3qNT",
      "execution_count": null,
      "outputs": []
    },
    {
      "cell_type": "code",
      "source": [
        "plt.plot(y_estimated/2**15, 'r') # Plot of de the estimated y"
      ],
      "metadata": {
        "colab": {
          "base_uri": "https://localhost:8080/",
          "height": 283
        },
        "id": "OrxHP32XBc1X",
        "outputId": "c6b8a2c9-bfe8-4521-d912-02d0daa90705"
      },
      "id": "OrxHP32XBc1X",
      "execution_count": null,
      "outputs": [
        {
          "output_type": "execute_result",
          "data": {
            "text/plain": [
              "[<matplotlib.lines.Line2D at 0x7f7566e92790>]"
            ]
          },
          "metadata": {},
          "execution_count": 173
        },
        {
          "output_type": "display_data",
          "data": {
            "text/plain": [
              "<Figure size 432x288 with 1 Axes>"
            ],
            "image/png": "[encoded data removed]"
          },
          "metadata": {
            "needs_background": "light"
          }
        }
      ]
    },
    {
      "cell_type": "markdown",
      "source": [
        "Let's compare the estimated value with the real signal one before clipping it"
      ],
      "metadata": {
        "id": "iAZkzSyWksgB"
      },
      "id": "iAZkzSyWksgB"
    },
    {
      "cell_type": "code",
      "source": [
        "def snr_bis(y, y_estimated) :\n",
        "  return 20*np.log10(np.linalg.norm(y,1)/np.linalg.norm(y-y_estimated,1))\n",
        "\n",
        "snr_bis(y_estimated, sig)"
      ],
      "metadata": {
        "colab": {
          "base_uri": "https://localhost:8080/"
        },
        "id": "9pl8WJ95k06u",
        "outputId": "ded7e072-f17d-4d0d-dda4-cb48de0562e6"
      },
      "id": "9pl8WJ95k06u",
      "execution_count": null,
      "outputs": [
        {
          "output_type": "execute_result",
          "data": {
            "text/plain": [
              "73.38728427886963"
            ]
          },
          "metadata": {},
          "execution_count": 174
        }
      ]
    },
    {
      "cell_type": "markdown",
      "source": [
        "We can see that the SNR value is high which means that our estimated signal is pretty good."
      ],
      "metadata": {
        "id": "Om76bVTelWRB"
      },
      "id": "Om76bVTelWRB"
    },
    {
      "cell_type": "code",
      "source": [
        "from scipy.io.wavfile import write\n",
        "write(\"declipped.wav\", frate, y_estimated.astype(np.int16))"
      ],
      "metadata": {
        "id": "cRlv25udNNaC"
      },
      "id": "cRlv25udNNaC",
      "execution_count": null,
      "outputs": []
    }
  ],
  "metadata": {
    "kernelspec": {
      "display_name": "Python 3 (ipykernel)",
      "language": "python",
      "name": "python3"
    },
    "language_info": {
      "codemirror_mode": {
        "name": "ipython",
        "version": 3
      },
      "file_extension": ".py",
      "mimetype": "text/x-python",
      "name": "python",
      "nbconvert_exporter": "python",
      "pygments_lexer": "ipython3",
      "version": "3.9.7"
    },
    "colab": {
      "provenance": []
    }
  },
  "nbformat": 4,
  "nbformat_minor": 5
}